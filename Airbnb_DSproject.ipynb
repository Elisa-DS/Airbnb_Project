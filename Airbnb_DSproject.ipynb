{
 "cells": [
  {
   "cell_type": "code",
   "execution_count": null,
   "metadata": {},
   "outputs": [],
   "source": []
  },
  {
   "cell_type": "markdown",
   "metadata": {},
   "source": [
    " # INM430 - Tiny DS Project Progress Report\n",
    "\n",
    "\n",
    "***\n",
    "\n",
    "** Student Name: ** Elisa Pessoni de Padua Chimenton\n",
    "\n",
    "** Project Title:** How positive reviews and neighbourhood have influence in Airbnb's price \n",
    "\n",
    "***\n"
   ]
  },
  {
   "cell_type": "markdown",
   "metadata": {},
   "source": [
    "# Importing libraries and loading data"
   ]
  },
  {
   "cell_type": "code",
   "execution_count": 503,
   "metadata": {},
   "outputs": [
    {
     "name": "stderr",
     "output_type": "stream",
     "text": [
      "[nltk_data] Downloading package punkt to\n",
      "[nltk_data]     C:\\Users\\44746\\AppData\\Roaming\\nltk_data...\n",
      "[nltk_data]   Package punkt is already up-to-date!\n",
      "[nltk_data] Downloading package wordnet to\n",
      "[nltk_data]     C:\\Users\\44746\\AppData\\Roaming\\nltk_data...\n",
      "[nltk_data]   Package wordnet is already up-to-date!\n",
      "[nltk_data] Downloading package stopwords to\n",
      "[nltk_data]     C:\\Users\\44746\\AppData\\Roaming\\nltk_data...\n",
      "[nltk_data]   Package stopwords is already up-to-date!\n"
     ]
    }
   ],
   "source": [
    "#libraries for text processing\n",
    "import nltk\n",
    "nltk.download(['punkt', 'wordnet','stopwords'])\n",
    "from nltk.tokenize import word_tokenize, sent_tokenize\n",
    "from nltk.corpus import stopwords\n",
    "from nltk.stem.wordnet import WordNetLemmatizer\n",
    "from scipy.stats import norm\n",
    "\n",
    "from sklearn.metrics import confusion_matrix, accuracy_score, recall_score, classification_report, make_scorer,r2_score\n",
    "from sklearn.model_selection import GridSearchCV\n",
    "from sklearn.ensemble import RandomForestClassifier, GradientBoostingClassifier,GradientBoostingRegressor\n",
    "from sklearn.model_selection import train_test_split\n",
    "from sklearn.pipeline import Pipeline, FeatureUnion\n",
    "from sklearn.base import BaseEstimator, TransformerMixin\n",
    "from sklearn.feature_extraction.text import CountVectorizer, TfidfTransformer\n",
    "from sklearn.multioutput import MultiOutputClassifier\n",
    "\n",
    "from PIL import Image\n",
    "from wordcloud import WordCloud, STOPWORDS, ImageColorGenerator\n",
    "from sklearn.metrics import explained_variance_score, mean_squared_error, r2_score\n",
    "\n",
    "#usual imports\n",
    "%matplotlib inline\n",
    "import re\n",
    "import numpy as np\n",
    "import pandas as pd\n",
    "import matplotlib.pyplot as plt\n",
    "import seaborn as sns\n",
    "import csv\n",
    "import dask.dataframe as dd\n",
    "from collections import defaultdict\n",
    "# Variables for colours\n",
    "BNB_BLUE = '#007A87'\n",
    "BNB_RED = '#FF5A5F'\n",
    "BNB_DARK_GRAY = '#565A5C'\n",
    "BNB_LIGHT_GRAY = '#CED1CC'\n",
    "\n",
    "#load data\n",
    "reviews = pd.read_csv(r'C:\\Users\\44746\\Documents\\Data Science\\reviews.csv.gz', compression='gzip', header=0, sep=',', quotechar='\"',low_memory=False)\n",
    "calendar = pd.read_csv(r'C:\\Users\\44746\\Downloads\\calendar.csv.gz', compression='gzip', header=0, sep=',', quotechar='\"',low_memory=False)\n",
    "listing = pd.read_csv(r'C:\\Users\\44746\\Documents\\Data Science\\listings.csv.gz', compression='gzip', header=0, sep=',', quotechar='\"',low_memory=False)\n",
    "\n"
   ]
  },
  {
   "cell_type": "code",
   "execution_count": 504,
   "metadata": {
    "scrolled": false
   },
   "outputs": [
    {
     "name": "stdout",
     "output_type": "stream",
     "text": [
      "Features:\t106\n",
      "Entries: \t85273\n"
     ]
    },
    {
     "data": {
      "text/html": [
       "<div>\n",
       "<style scoped>\n",
       "    .dataframe tbody tr th:only-of-type {\n",
       "        vertical-align: middle;\n",
       "    }\n",
       "\n",
       "    .dataframe tbody tr th {\n",
       "        vertical-align: top;\n",
       "    }\n",
       "\n",
       "    .dataframe thead th {\n",
       "        text-align: right;\n",
       "    }\n",
       "</style>\n",
       "<table border=\"1\" class=\"dataframe\">\n",
       "  <thead>\n",
       "    <tr style=\"text-align: right;\">\n",
       "      <th></th>\n",
       "      <th>id</th>\n",
       "      <th>listing_url</th>\n",
       "      <th>scrape_id</th>\n",
       "      <th>last_scraped</th>\n",
       "      <th>name</th>\n",
       "      <th>summary</th>\n",
       "      <th>space</th>\n",
       "      <th>description</th>\n",
       "      <th>experiences_offered</th>\n",
       "      <th>neighborhood_overview</th>\n",
       "      <th>notes</th>\n",
       "      <th>transit</th>\n",
       "      <th>access</th>\n",
       "      <th>interaction</th>\n",
       "      <th>house_rules</th>\n",
       "      <th>thumbnail_url</th>\n",
       "      <th>medium_url</th>\n",
       "      <th>picture_url</th>\n",
       "      <th>xl_picture_url</th>\n",
       "      <th>host_id</th>\n",
       "      <th>host_url</th>\n",
       "      <th>host_name</th>\n",
       "      <th>host_since</th>\n",
       "      <th>host_location</th>\n",
       "      <th>host_about</th>\n",
       "      <th>host_response_time</th>\n",
       "      <th>host_response_rate</th>\n",
       "      <th>host_acceptance_rate</th>\n",
       "      <th>host_is_superhost</th>\n",
       "      <th>host_thumbnail_url</th>\n",
       "      <th>host_picture_url</th>\n",
       "      <th>host_neighbourhood</th>\n",
       "      <th>host_listings_count</th>\n",
       "      <th>host_total_listings_count</th>\n",
       "      <th>host_verifications</th>\n",
       "      <th>host_has_profile_pic</th>\n",
       "      <th>host_identity_verified</th>\n",
       "      <th>street</th>\n",
       "      <th>neighbourhood</th>\n",
       "      <th>neighbourhood_cleansed</th>\n",
       "      <th>neighbourhood_group_cleansed</th>\n",
       "      <th>city</th>\n",
       "      <th>state</th>\n",
       "      <th>zipcode</th>\n",
       "      <th>market</th>\n",
       "      <th>smart_location</th>\n",
       "      <th>country_code</th>\n",
       "      <th>country</th>\n",
       "      <th>latitude</th>\n",
       "      <th>longitude</th>\n",
       "      <th>is_location_exact</th>\n",
       "      <th>property_type</th>\n",
       "      <th>room_type</th>\n",
       "      <th>accommodates</th>\n",
       "      <th>bathrooms</th>\n",
       "      <th>bedrooms</th>\n",
       "      <th>beds</th>\n",
       "      <th>bed_type</th>\n",
       "      <th>amenities</th>\n",
       "      <th>square_feet</th>\n",
       "      <th>price</th>\n",
       "      <th>weekly_price</th>\n",
       "      <th>monthly_price</th>\n",
       "      <th>security_deposit</th>\n",
       "      <th>cleaning_fee</th>\n",
       "      <th>guests_included</th>\n",
       "      <th>extra_people</th>\n",
       "      <th>minimum_nights</th>\n",
       "      <th>maximum_nights</th>\n",
       "      <th>minimum_minimum_nights</th>\n",
       "      <th>maximum_minimum_nights</th>\n",
       "      <th>minimum_maximum_nights</th>\n",
       "      <th>maximum_maximum_nights</th>\n",
       "      <th>minimum_nights_avg_ntm</th>\n",
       "      <th>maximum_nights_avg_ntm</th>\n",
       "      <th>calendar_updated</th>\n",
       "      <th>has_availability</th>\n",
       "      <th>availability_30</th>\n",
       "      <th>availability_60</th>\n",
       "      <th>availability_90</th>\n",
       "      <th>availability_365</th>\n",
       "      <th>calendar_last_scraped</th>\n",
       "      <th>number_of_reviews</th>\n",
       "      <th>number_of_reviews_ltm</th>\n",
       "      <th>first_review</th>\n",
       "      <th>last_review</th>\n",
       "      <th>review_scores_rating</th>\n",
       "      <th>review_scores_accuracy</th>\n",
       "      <th>review_scores_cleanliness</th>\n",
       "      <th>review_scores_checkin</th>\n",
       "      <th>review_scores_communication</th>\n",
       "      <th>review_scores_location</th>\n",
       "      <th>review_scores_value</th>\n",
       "      <th>requires_license</th>\n",
       "      <th>license</th>\n",
       "      <th>jurisdiction_names</th>\n",
       "      <th>instant_bookable</th>\n",
       "      <th>is_business_travel_ready</th>\n",
       "      <th>cancellation_policy</th>\n",
       "      <th>require_guest_profile_picture</th>\n",
       "      <th>require_guest_phone_verification</th>\n",
       "      <th>calculated_host_listings_count</th>\n",
       "      <th>calculated_host_listings_count_entire_homes</th>\n",
       "      <th>calculated_host_listings_count_private_rooms</th>\n",
       "      <th>calculated_host_listings_count_shared_rooms</th>\n",
       "      <th>reviews_per_month</th>\n",
       "    </tr>\n",
       "  </thead>\n",
       "  <tbody>\n",
       "    <tr>\n",
       "      <td>0</td>\n",
       "      <td>11551</td>\n",
       "      <td>https://www.airbnb.com/rooms/11551</td>\n",
       "      <td>20190914144451</td>\n",
       "      <td>2019-09-15</td>\n",
       "      <td>Arty and Bright London Apartment in Zone 2</td>\n",
       "      <td>Unlike most rental apartments out there my fla...</td>\n",
       "      <td>Amenities Bedding: 1 Double bed, 1 living room...</td>\n",
       "      <td>Unlike most rental apartments out there my fla...</td>\n",
       "      <td>family</td>\n",
       "      <td>Not even 10 minutes by metro from Victoria Sta...</td>\n",
       "      <td>No Smoking (very strict) Check-in time is afte...</td>\n",
       "      <td>Tons of buses (24hrs) go into central London f...</td>\n",
       "      <td>Guest will have access to the entire apartment</td>\n",
       "      <td>No interaction with guests as you book the ent...</td>\n",
       "      <td>No Smoking (very strict) No pets are allowed i...</td>\n",
       "      <td>NaN</td>\n",
       "      <td>NaN</td>\n",
       "      <td>https://a0.muscache.com/im/pictures/1d720898-c...</td>\n",
       "      <td>NaN</td>\n",
       "      <td>43039</td>\n",
       "      <td>https://www.airbnb.com/users/show/43039</td>\n",
       "      <td>Adriano</td>\n",
       "      <td>2009-10-03</td>\n",
       "      <td>London, England, United Kingdom</td>\n",
       "      <td>Hello, I'm a friendly Italian man with a very ...</td>\n",
       "      <td>within an hour</td>\n",
       "      <td>100%</td>\n",
       "      <td>NaN</td>\n",
       "      <td>t</td>\n",
       "      <td>https://a0.muscache.com/im/pictures/user/2beb9...</td>\n",
       "      <td>https://a0.muscache.com/im/pictures/user/2beb9...</td>\n",
       "      <td>Brixton</td>\n",
       "      <td>3.0</td>\n",
       "      <td>3.0</td>\n",
       "      <td>['email', 'phone', 'reviews', 'jumio', 'offlin...</td>\n",
       "      <td>t</td>\n",
       "      <td>t</td>\n",
       "      <td>London, United Kingdom</td>\n",
       "      <td>Brixton</td>\n",
       "      <td>Lambeth</td>\n",
       "      <td>NaN</td>\n",
       "      <td>London</td>\n",
       "      <td>NaN</td>\n",
       "      <td>SW9 8DG</td>\n",
       "      <td>London</td>\n",
       "      <td>London, United Kingdom</td>\n",
       "      <td>GB</td>\n",
       "      <td>United Kingdom</td>\n",
       "      <td>51.46225</td>\n",
       "      <td>-0.11732</td>\n",
       "      <td>t</td>\n",
       "      <td>Apartment</td>\n",
       "      <td>Entire home/apt</td>\n",
       "      <td>4</td>\n",
       "      <td>1.0</td>\n",
       "      <td>1.0</td>\n",
       "      <td>1.0</td>\n",
       "      <td>Real Bed</td>\n",
       "      <td>{TV,\"Cable TV\",Internet,Wifi,Kitchen,\"Paid par...</td>\n",
       "      <td>NaN</td>\n",
       "      <td>$88.00</td>\n",
       "      <td>$645.00</td>\n",
       "      <td>$2,350.00</td>\n",
       "      <td>$400.00</td>\n",
       "      <td>$30.00</td>\n",
       "      <td>2</td>\n",
       "      <td>$20.00</td>\n",
       "      <td>2</td>\n",
       "      <td>180</td>\n",
       "      <td>2</td>\n",
       "      <td>2</td>\n",
       "      <td>180</td>\n",
       "      <td>180</td>\n",
       "      <td>2.0</td>\n",
       "      <td>180.0</td>\n",
       "      <td>4 days ago</td>\n",
       "      <td>t</td>\n",
       "      <td>19</td>\n",
       "      <td>42</td>\n",
       "      <td>72</td>\n",
       "      <td>344</td>\n",
       "      <td>2019-09-15</td>\n",
       "      <td>184</td>\n",
       "      <td>1</td>\n",
       "      <td>2010-03-21</td>\n",
       "      <td>2019-07-10</td>\n",
       "      <td>92.0</td>\n",
       "      <td>9.0</td>\n",
       "      <td>9.0</td>\n",
       "      <td>10.0</td>\n",
       "      <td>10.0</td>\n",
       "      <td>9.0</td>\n",
       "      <td>9.0</td>\n",
       "      <td>f</td>\n",
       "      <td>NaN</td>\n",
       "      <td>NaN</td>\n",
       "      <td>t</td>\n",
       "      <td>f</td>\n",
       "      <td>strict_14_with_grace_period</td>\n",
       "      <td>f</td>\n",
       "      <td>t</td>\n",
       "      <td>2</td>\n",
       "      <td>2</td>\n",
       "      <td>0</td>\n",
       "      <td>0</td>\n",
       "      <td>1.59</td>\n",
       "    </tr>\n",
       "    <tr>\n",
       "      <td>1</td>\n",
       "      <td>13913</td>\n",
       "      <td>https://www.airbnb.com/rooms/13913</td>\n",
       "      <td>20190914144451</td>\n",
       "      <td>2019-09-15</td>\n",
       "      <td>Holiday London DB Room Let-on going</td>\n",
       "      <td>My bright double bedroom with a large window h...</td>\n",
       "      <td>Hello Everyone, I'm offering my lovely double ...</td>\n",
       "      <td>My bright double bedroom with a large window h...</td>\n",
       "      <td>business</td>\n",
       "      <td>Finsbury Park is a friendly melting pot commun...</td>\n",
       "      <td>For art lovers I can give guest my Tate Member...</td>\n",
       "      <td>The flat only a 10 minute walk to Finsbury Par...</td>\n",
       "      <td>Guest will have access to the self catering ki...</td>\n",
       "      <td>I like to have little chats with my guest over...</td>\n",
       "      <td>I'm an artist and have my artwork up on the wa...</td>\n",
       "      <td>NaN</td>\n",
       "      <td>NaN</td>\n",
       "      <td>https://a0.muscache.com/im/pictures/ffb507b7-9...</td>\n",
       "      <td>NaN</td>\n",
       "      <td>54730</td>\n",
       "      <td>https://www.airbnb.com/users/show/54730</td>\n",
       "      <td>Alina</td>\n",
       "      <td>2009-11-16</td>\n",
       "      <td>London, England, United Kingdom</td>\n",
       "      <td>I am a Multi-Media Visual Artist and Creative ...</td>\n",
       "      <td>within an hour</td>\n",
       "      <td>100%</td>\n",
       "      <td>NaN</td>\n",
       "      <td>f</td>\n",
       "      <td>https://a0.muscache.com/im/users/54730/profile...</td>\n",
       "      <td>https://a0.muscache.com/im/users/54730/profile...</td>\n",
       "      <td>LB of Islington</td>\n",
       "      <td>4.0</td>\n",
       "      <td>4.0</td>\n",
       "      <td>['email', 'phone', 'facebook', 'reviews']</td>\n",
       "      <td>t</td>\n",
       "      <td>f</td>\n",
       "      <td>Islington, Greater London, United Kingdom</td>\n",
       "      <td>LB of Islington</td>\n",
       "      <td>Islington</td>\n",
       "      <td>NaN</td>\n",
       "      <td>Islington</td>\n",
       "      <td>Greater London</td>\n",
       "      <td>N4 3</td>\n",
       "      <td>London</td>\n",
       "      <td>Islington, United Kingdom</td>\n",
       "      <td>GB</td>\n",
       "      <td>United Kingdom</td>\n",
       "      <td>51.56802</td>\n",
       "      <td>-0.11121</td>\n",
       "      <td>t</td>\n",
       "      <td>Apartment</td>\n",
       "      <td>Private room</td>\n",
       "      <td>2</td>\n",
       "      <td>1.0</td>\n",
       "      <td>1.0</td>\n",
       "      <td>0.0</td>\n",
       "      <td>Real Bed</td>\n",
       "      <td>{TV,\"Cable TV\",Wifi,Kitchen,\"Paid parking off ...</td>\n",
       "      <td>538.0</td>\n",
       "      <td>$65.00</td>\n",
       "      <td>$333.00</td>\n",
       "      <td>$1,176.00</td>\n",
       "      <td>$100.00</td>\n",
       "      <td>$15.00</td>\n",
       "      <td>1</td>\n",
       "      <td>$15.00</td>\n",
       "      <td>1</td>\n",
       "      <td>29</td>\n",
       "      <td>1</td>\n",
       "      <td>1</td>\n",
       "      <td>29</td>\n",
       "      <td>29</td>\n",
       "      <td>1.0</td>\n",
       "      <td>29.0</td>\n",
       "      <td>5 months ago</td>\n",
       "      <td>t</td>\n",
       "      <td>18</td>\n",
       "      <td>48</td>\n",
       "      <td>78</td>\n",
       "      <td>353</td>\n",
       "      <td>2019-09-15</td>\n",
       "      <td>16</td>\n",
       "      <td>2</td>\n",
       "      <td>2010-08-18</td>\n",
       "      <td>2019-06-10</td>\n",
       "      <td>96.0</td>\n",
       "      <td>9.0</td>\n",
       "      <td>10.0</td>\n",
       "      <td>9.0</td>\n",
       "      <td>10.0</td>\n",
       "      <td>9.0</td>\n",
       "      <td>9.0</td>\n",
       "      <td>f</td>\n",
       "      <td>NaN</td>\n",
       "      <td>NaN</td>\n",
       "      <td>f</td>\n",
       "      <td>f</td>\n",
       "      <td>moderate</td>\n",
       "      <td>f</td>\n",
       "      <td>f</td>\n",
       "      <td>3</td>\n",
       "      <td>1</td>\n",
       "      <td>2</td>\n",
       "      <td>0</td>\n",
       "      <td>0.14</td>\n",
       "    </tr>\n",
       "    <tr>\n",
       "      <td>2</td>\n",
       "      <td>15400</td>\n",
       "      <td>https://www.airbnb.com/rooms/15400</td>\n",
       "      <td>20190914144451</td>\n",
       "      <td>2019-09-15</td>\n",
       "      <td>Bright Chelsea  Apartment. Chelsea!</td>\n",
       "      <td>Lots of windows and light.  St Luke's Gardens ...</td>\n",
       "      <td>Bright Chelsea Apartment  This is a bright one...</td>\n",
       "      <td>Lots of windows and light.  St Luke's Gardens ...</td>\n",
       "      <td>romantic</td>\n",
       "      <td>It is Chelsea.</td>\n",
       "      <td>The building next door is in the process of be...</td>\n",
       "      <td>The underground stations are South Kensington ...</td>\n",
       "      <td>There are two wardrobes for guests exclusive u...</td>\n",
       "      <td>If I am in the country I like to welcome my gu...</td>\n",
       "      <td>NO SMOKING PLEASE.. No unauthorised guests. No...</td>\n",
       "      <td>NaN</td>\n",
       "      <td>NaN</td>\n",
       "      <td>https://a0.muscache.com/im/pictures/428392/462...</td>\n",
       "      <td>NaN</td>\n",
       "      <td>60302</td>\n",
       "      <td>https://www.airbnb.com/users/show/60302</td>\n",
       "      <td>Philippa</td>\n",
       "      <td>2009-12-05</td>\n",
       "      <td>Kensington, England, United Kingdom</td>\n",
       "      <td>English, grandmother,  I have travelled quite ...</td>\n",
       "      <td>within a few hours</td>\n",
       "      <td>100%</td>\n",
       "      <td>NaN</td>\n",
       "      <td>t</td>\n",
       "      <td>https://a0.muscache.com/im/users/60302/profile...</td>\n",
       "      <td>https://a0.muscache.com/im/users/60302/profile...</td>\n",
       "      <td>Chelsea</td>\n",
       "      <td>1.0</td>\n",
       "      <td>1.0</td>\n",
       "      <td>['email', 'phone', 'reviews', 'jumio', 'govern...</td>\n",
       "      <td>t</td>\n",
       "      <td>t</td>\n",
       "      <td>London, United Kingdom</td>\n",
       "      <td>Chelsea</td>\n",
       "      <td>Kensington and Chelsea</td>\n",
       "      <td>NaN</td>\n",
       "      <td>London</td>\n",
       "      <td>NaN</td>\n",
       "      <td>SW3</td>\n",
       "      <td>London</td>\n",
       "      <td>London, United Kingdom</td>\n",
       "      <td>GB</td>\n",
       "      <td>United Kingdom</td>\n",
       "      <td>51.48796</td>\n",
       "      <td>-0.16898</td>\n",
       "      <td>t</td>\n",
       "      <td>Apartment</td>\n",
       "      <td>Entire home/apt</td>\n",
       "      <td>2</td>\n",
       "      <td>1.0</td>\n",
       "      <td>1.0</td>\n",
       "      <td>1.0</td>\n",
       "      <td>Real Bed</td>\n",
       "      <td>{TV,\"Cable TV\",Internet,Wifi,\"Air conditioning...</td>\n",
       "      <td>NaN</td>\n",
       "      <td>$100.00</td>\n",
       "      <td>$600.00</td>\n",
       "      <td>$2,250.00</td>\n",
       "      <td>$150.00</td>\n",
       "      <td>$50.00</td>\n",
       "      <td>2</td>\n",
       "      <td>$0.00</td>\n",
       "      <td>30</td>\n",
       "      <td>50</td>\n",
       "      <td>30</td>\n",
       "      <td>30</td>\n",
       "      <td>50</td>\n",
       "      <td>50</td>\n",
       "      <td>30.0</td>\n",
       "      <td>50.0</td>\n",
       "      <td>4 days ago</td>\n",
       "      <td>t</td>\n",
       "      <td>8</td>\n",
       "      <td>8</td>\n",
       "      <td>8</td>\n",
       "      <td>114</td>\n",
       "      <td>2019-09-15</td>\n",
       "      <td>87</td>\n",
       "      <td>6</td>\n",
       "      <td>2009-12-21</td>\n",
       "      <td>2019-08-27</td>\n",
       "      <td>96.0</td>\n",
       "      <td>10.0</td>\n",
       "      <td>10.0</td>\n",
       "      <td>10.0</td>\n",
       "      <td>10.0</td>\n",
       "      <td>10.0</td>\n",
       "      <td>9.0</td>\n",
       "      <td>f</td>\n",
       "      <td>NaN</td>\n",
       "      <td>NaN</td>\n",
       "      <td>t</td>\n",
       "      <td>f</td>\n",
       "      <td>strict_14_with_grace_period</td>\n",
       "      <td>t</td>\n",
       "      <td>t</td>\n",
       "      <td>1</td>\n",
       "      <td>1</td>\n",
       "      <td>0</td>\n",
       "      <td>0</td>\n",
       "      <td>0.73</td>\n",
       "    </tr>\n",
       "    <tr>\n",
       "      <td>3</td>\n",
       "      <td>17402</td>\n",
       "      <td>https://www.airbnb.com/rooms/17402</td>\n",
       "      <td>20190914144451</td>\n",
       "      <td>2019-09-15</td>\n",
       "      <td>Superb 3-Bed/2 Bath &amp; Wifi: Trendy W1</td>\n",
       "      <td>You'll have a wonderful stay in this superb mo...</td>\n",
       "      <td>This is a wonderful very popular beautiful, sp...</td>\n",
       "      <td>You'll have a wonderful stay in this superb mo...</td>\n",
       "      <td>none</td>\n",
       "      <td>Location, location, location! You won't find b...</td>\n",
       "      <td>This property has new flooring throughout. Gue...</td>\n",
       "      <td>You can walk to tourist London or take numerou...</td>\n",
       "      <td>Full use of whole independent apartment</td>\n",
       "      <td>Always available by email or phone (before, du...</td>\n",
       "      <td>The apartment benefits from new flooring throu...</td>\n",
       "      <td>NaN</td>\n",
       "      <td>NaN</td>\n",
       "      <td>https://a0.muscache.com/im/pictures/39d5309d-f...</td>\n",
       "      <td>NaN</td>\n",
       "      <td>67564</td>\n",
       "      <td>https://www.airbnb.com/users/show/67564</td>\n",
       "      <td>Liz</td>\n",
       "      <td>2010-01-04</td>\n",
       "      <td>London, England, United Kingdom</td>\n",
       "      <td>We are Liz and Jack.  We manage a number of ho...</td>\n",
       "      <td>within an hour</td>\n",
       "      <td>98%</td>\n",
       "      <td>NaN</td>\n",
       "      <td>t</td>\n",
       "      <td>https://a0.muscache.com/im/users/67564/profile...</td>\n",
       "      <td>https://a0.muscache.com/im/users/67564/profile...</td>\n",
       "      <td>Fitzrovia</td>\n",
       "      <td>18.0</td>\n",
       "      <td>18.0</td>\n",
       "      <td>['email', 'phone', 'reviews', 'jumio', 'offlin...</td>\n",
       "      <td>t</td>\n",
       "      <td>t</td>\n",
       "      <td>London, Fitzrovia, United Kingdom</td>\n",
       "      <td>City of Westminster</td>\n",
       "      <td>Westminster</td>\n",
       "      <td>NaN</td>\n",
       "      <td>London</td>\n",
       "      <td>Fitzrovia</td>\n",
       "      <td>W1T4BP</td>\n",
       "      <td>London</td>\n",
       "      <td>London, United Kingdom</td>\n",
       "      <td>GB</td>\n",
       "      <td>United Kingdom</td>\n",
       "      <td>51.52098</td>\n",
       "      <td>-0.14002</td>\n",
       "      <td>t</td>\n",
       "      <td>Apartment</td>\n",
       "      <td>Entire home/apt</td>\n",
       "      <td>6</td>\n",
       "      <td>2.0</td>\n",
       "      <td>3.0</td>\n",
       "      <td>4.0</td>\n",
       "      <td>Real Bed</td>\n",
       "      <td>{TV,Wifi,Kitchen,\"Paid parking off premises\",E...</td>\n",
       "      <td>NaN</td>\n",
       "      <td>$300.00</td>\n",
       "      <td>$1,378.00</td>\n",
       "      <td>NaN</td>\n",
       "      <td>$350.00</td>\n",
       "      <td>$65.00</td>\n",
       "      <td>4</td>\n",
       "      <td>$10.00</td>\n",
       "      <td>3</td>\n",
       "      <td>365</td>\n",
       "      <td>2</td>\n",
       "      <td>3</td>\n",
       "      <td>365</td>\n",
       "      <td>365</td>\n",
       "      <td>3.0</td>\n",
       "      <td>365.0</td>\n",
       "      <td>5 days ago</td>\n",
       "      <td>t</td>\n",
       "      <td>12</td>\n",
       "      <td>36</td>\n",
       "      <td>54</td>\n",
       "      <td>265</td>\n",
       "      <td>2019-09-15</td>\n",
       "      <td>41</td>\n",
       "      <td>5</td>\n",
       "      <td>2011-03-21</td>\n",
       "      <td>2019-06-19</td>\n",
       "      <td>94.0</td>\n",
       "      <td>10.0</td>\n",
       "      <td>9.0</td>\n",
       "      <td>9.0</td>\n",
       "      <td>9.0</td>\n",
       "      <td>10.0</td>\n",
       "      <td>9.0</td>\n",
       "      <td>f</td>\n",
       "      <td>NaN</td>\n",
       "      <td>NaN</td>\n",
       "      <td>t</td>\n",
       "      <td>f</td>\n",
       "      <td>strict_14_with_grace_period</td>\n",
       "      <td>f</td>\n",
       "      <td>f</td>\n",
       "      <td>15</td>\n",
       "      <td>15</td>\n",
       "      <td>0</td>\n",
       "      <td>0</td>\n",
       "      <td>0.40</td>\n",
       "    </tr>\n",
       "    <tr>\n",
       "      <td>4</td>\n",
       "      <td>24328</td>\n",
       "      <td>https://www.airbnb.com/rooms/24328</td>\n",
       "      <td>20190914144451</td>\n",
       "      <td>2019-09-15</td>\n",
       "      <td>Battersea bedroom &amp; office w parking shared ga...</td>\n",
       "      <td>Artist house, bright high ceiling rooms, priva...</td>\n",
       "      <td>- End of terrace two bedroom house close to So...</td>\n",
       "      <td>Artist house, bright high ceiling rooms, priva...</td>\n",
       "      <td>family</td>\n",
       "      <td>- Battersea is a quiet family area, easy acces...</td>\n",
       "      <td>- Please have a profile or tell us more about ...</td>\n",
       "      <td>- 5 mins walk to Battersea Park, 15 mins walk ...</td>\n",
       "      <td>- there is a communal garden in our complex - ...</td>\n",
       "      <td>We rent out our house only when we are away. T...</td>\n",
       "      <td>A house manual will be emailed once a booking ...</td>\n",
       "      <td>NaN</td>\n",
       "      <td>NaN</td>\n",
       "      <td>https://a0.muscache.com/im/pictures/c4ffa398-e...</td>\n",
       "      <td>NaN</td>\n",
       "      <td>41759</td>\n",
       "      <td>https://www.airbnb.com/users/show/41759</td>\n",
       "      <td>Joe</td>\n",
       "      <td>2009-09-28</td>\n",
       "      <td>London, England, United Kingdom</td>\n",
       "      <td>I've been using Airbnb for a while now, both a...</td>\n",
       "      <td>within a day</td>\n",
       "      <td>80%</td>\n",
       "      <td>NaN</td>\n",
       "      <td>f</td>\n",
       "      <td>https://a0.muscache.com/im/users/41759/profile...</td>\n",
       "      <td>https://a0.muscache.com/im/users/41759/profile...</td>\n",
       "      <td>Battersea</td>\n",
       "      <td>0.0</td>\n",
       "      <td>0.0</td>\n",
       "      <td>['email', 'phone', 'reviews', 'jumio', 'offlin...</td>\n",
       "      <td>t</td>\n",
       "      <td>t</td>\n",
       "      <td>London, United Kingdom</td>\n",
       "      <td>LB of Wandsworth</td>\n",
       "      <td>Wandsworth</td>\n",
       "      <td>NaN</td>\n",
       "      <td>London</td>\n",
       "      <td>NaN</td>\n",
       "      <td>SW11 5GX</td>\n",
       "      <td>London</td>\n",
       "      <td>London, United Kingdom</td>\n",
       "      <td>GB</td>\n",
       "      <td>United Kingdom</td>\n",
       "      <td>51.47298</td>\n",
       "      <td>-0.16376</td>\n",
       "      <td>t</td>\n",
       "      <td>Townhouse</td>\n",
       "      <td>Entire home/apt</td>\n",
       "      <td>2</td>\n",
       "      <td>1.5</td>\n",
       "      <td>1.0</td>\n",
       "      <td>1.0</td>\n",
       "      <td>Real Bed</td>\n",
       "      <td>{TV,\"Cable TV\",Internet,Wifi,Kitchen,\"Free par...</td>\n",
       "      <td>1001.0</td>\n",
       "      <td>$175.00</td>\n",
       "      <td>$1,050.00</td>\n",
       "      <td>$3,500.00</td>\n",
       "      <td>$250.00</td>\n",
       "      <td>$70.00</td>\n",
       "      <td>2</td>\n",
       "      <td>$0.00</td>\n",
       "      <td>30</td>\n",
       "      <td>1125</td>\n",
       "      <td>30</td>\n",
       "      <td>30</td>\n",
       "      <td>1125</td>\n",
       "      <td>1125</td>\n",
       "      <td>30.0</td>\n",
       "      <td>1125.0</td>\n",
       "      <td>6 months ago</td>\n",
       "      <td>t</td>\n",
       "      <td>11</td>\n",
       "      <td>41</td>\n",
       "      <td>71</td>\n",
       "      <td>346</td>\n",
       "      <td>2019-09-15</td>\n",
       "      <td>93</td>\n",
       "      <td>1</td>\n",
       "      <td>2010-11-15</td>\n",
       "      <td>2019-06-08</td>\n",
       "      <td>98.0</td>\n",
       "      <td>10.0</td>\n",
       "      <td>10.0</td>\n",
       "      <td>10.0</td>\n",
       "      <td>10.0</td>\n",
       "      <td>9.0</td>\n",
       "      <td>9.0</td>\n",
       "      <td>f</td>\n",
       "      <td>NaN</td>\n",
       "      <td>NaN</td>\n",
       "      <td>f</td>\n",
       "      <td>f</td>\n",
       "      <td>moderate</td>\n",
       "      <td>t</td>\n",
       "      <td>t</td>\n",
       "      <td>1</td>\n",
       "      <td>1</td>\n",
       "      <td>0</td>\n",
       "      <td>0</td>\n",
       "      <td>0.86</td>\n",
       "    </tr>\n",
       "  </tbody>\n",
       "</table>\n",
       "</div>"
      ],
      "text/plain": [
       "      id                         listing_url       scrape_id last_scraped  \\\n",
       "0  11551  https://www.airbnb.com/rooms/11551  20190914144451   2019-09-15   \n",
       "1  13913  https://www.airbnb.com/rooms/13913  20190914144451   2019-09-15   \n",
       "2  15400  https://www.airbnb.com/rooms/15400  20190914144451   2019-09-15   \n",
       "3  17402  https://www.airbnb.com/rooms/17402  20190914144451   2019-09-15   \n",
       "4  24328  https://www.airbnb.com/rooms/24328  20190914144451   2019-09-15   \n",
       "\n",
       "                                                name  \\\n",
       "0         Arty and Bright London Apartment in Zone 2   \n",
       "1                Holiday London DB Room Let-on going   \n",
       "2                Bright Chelsea  Apartment. Chelsea!   \n",
       "3              Superb 3-Bed/2 Bath & Wifi: Trendy W1   \n",
       "4  Battersea bedroom & office w parking shared ga...   \n",
       "\n",
       "                                             summary  \\\n",
       "0  Unlike most rental apartments out there my fla...   \n",
       "1  My bright double bedroom with a large window h...   \n",
       "2  Lots of windows and light.  St Luke's Gardens ...   \n",
       "3  You'll have a wonderful stay in this superb mo...   \n",
       "4  Artist house, bright high ceiling rooms, priva...   \n",
       "\n",
       "                                               space  \\\n",
       "0  Amenities Bedding: 1 Double bed, 1 living room...   \n",
       "1  Hello Everyone, I'm offering my lovely double ...   \n",
       "2  Bright Chelsea Apartment  This is a bright one...   \n",
       "3  This is a wonderful very popular beautiful, sp...   \n",
       "4  - End of terrace two bedroom house close to So...   \n",
       "\n",
       "                                         description experiences_offered  \\\n",
       "0  Unlike most rental apartments out there my fla...              family   \n",
       "1  My bright double bedroom with a large window h...            business   \n",
       "2  Lots of windows and light.  St Luke's Gardens ...            romantic   \n",
       "3  You'll have a wonderful stay in this superb mo...                none   \n",
       "4  Artist house, bright high ceiling rooms, priva...              family   \n",
       "\n",
       "                               neighborhood_overview  \\\n",
       "0  Not even 10 minutes by metro from Victoria Sta...   \n",
       "1  Finsbury Park is a friendly melting pot commun...   \n",
       "2                                     It is Chelsea.   \n",
       "3  Location, location, location! You won't find b...   \n",
       "4  - Battersea is a quiet family area, easy acces...   \n",
       "\n",
       "                                               notes  \\\n",
       "0  No Smoking (very strict) Check-in time is afte...   \n",
       "1  For art lovers I can give guest my Tate Member...   \n",
       "2  The building next door is in the process of be...   \n",
       "3  This property has new flooring throughout. Gue...   \n",
       "4  - Please have a profile or tell us more about ...   \n",
       "\n",
       "                                             transit  \\\n",
       "0  Tons of buses (24hrs) go into central London f...   \n",
       "1  The flat only a 10 minute walk to Finsbury Par...   \n",
       "2  The underground stations are South Kensington ...   \n",
       "3  You can walk to tourist London or take numerou...   \n",
       "4  - 5 mins walk to Battersea Park, 15 mins walk ...   \n",
       "\n",
       "                                              access  \\\n",
       "0     Guest will have access to the entire apartment   \n",
       "1  Guest will have access to the self catering ki...   \n",
       "2  There are two wardrobes for guests exclusive u...   \n",
       "3            Full use of whole independent apartment   \n",
       "4  - there is a communal garden in our complex - ...   \n",
       "\n",
       "                                         interaction  \\\n",
       "0  No interaction with guests as you book the ent...   \n",
       "1  I like to have little chats with my guest over...   \n",
       "2  If I am in the country I like to welcome my gu...   \n",
       "3  Always available by email or phone (before, du...   \n",
       "4  We rent out our house only when we are away. T...   \n",
       "\n",
       "                                         house_rules  thumbnail_url  \\\n",
       "0  No Smoking (very strict) No pets are allowed i...            NaN   \n",
       "1  I'm an artist and have my artwork up on the wa...            NaN   \n",
       "2  NO SMOKING PLEASE.. No unauthorised guests. No...            NaN   \n",
       "3  The apartment benefits from new flooring throu...            NaN   \n",
       "4  A house manual will be emailed once a booking ...            NaN   \n",
       "\n",
       "   medium_url                                        picture_url  \\\n",
       "0         NaN  https://a0.muscache.com/im/pictures/1d720898-c...   \n",
       "1         NaN  https://a0.muscache.com/im/pictures/ffb507b7-9...   \n",
       "2         NaN  https://a0.muscache.com/im/pictures/428392/462...   \n",
       "3         NaN  https://a0.muscache.com/im/pictures/39d5309d-f...   \n",
       "4         NaN  https://a0.muscache.com/im/pictures/c4ffa398-e...   \n",
       "\n",
       "   xl_picture_url  host_id                                 host_url host_name  \\\n",
       "0             NaN    43039  https://www.airbnb.com/users/show/43039   Adriano   \n",
       "1             NaN    54730  https://www.airbnb.com/users/show/54730     Alina   \n",
       "2             NaN    60302  https://www.airbnb.com/users/show/60302  Philippa   \n",
       "3             NaN    67564  https://www.airbnb.com/users/show/67564       Liz   \n",
       "4             NaN    41759  https://www.airbnb.com/users/show/41759       Joe   \n",
       "\n",
       "   host_since                        host_location  \\\n",
       "0  2009-10-03      London, England, United Kingdom   \n",
       "1  2009-11-16      London, England, United Kingdom   \n",
       "2  2009-12-05  Kensington, England, United Kingdom   \n",
       "3  2010-01-04      London, England, United Kingdom   \n",
       "4  2009-09-28      London, England, United Kingdom   \n",
       "\n",
       "                                          host_about  host_response_time  \\\n",
       "0  Hello, I'm a friendly Italian man with a very ...      within an hour   \n",
       "1  I am a Multi-Media Visual Artist and Creative ...      within an hour   \n",
       "2  English, grandmother,  I have travelled quite ...  within a few hours   \n",
       "3  We are Liz and Jack.  We manage a number of ho...      within an hour   \n",
       "4  I've been using Airbnb for a while now, both a...        within a day   \n",
       "\n",
       "  host_response_rate  host_acceptance_rate host_is_superhost  \\\n",
       "0               100%                   NaN                 t   \n",
       "1               100%                   NaN                 f   \n",
       "2               100%                   NaN                 t   \n",
       "3                98%                   NaN                 t   \n",
       "4                80%                   NaN                 f   \n",
       "\n",
       "                                  host_thumbnail_url  \\\n",
       "0  https://a0.muscache.com/im/pictures/user/2beb9...   \n",
       "1  https://a0.muscache.com/im/users/54730/profile...   \n",
       "2  https://a0.muscache.com/im/users/60302/profile...   \n",
       "3  https://a0.muscache.com/im/users/67564/profile...   \n",
       "4  https://a0.muscache.com/im/users/41759/profile...   \n",
       "\n",
       "                                    host_picture_url host_neighbourhood  \\\n",
       "0  https://a0.muscache.com/im/pictures/user/2beb9...            Brixton   \n",
       "1  https://a0.muscache.com/im/users/54730/profile...    LB of Islington   \n",
       "2  https://a0.muscache.com/im/users/60302/profile...            Chelsea   \n",
       "3  https://a0.muscache.com/im/users/67564/profile...          Fitzrovia   \n",
       "4  https://a0.muscache.com/im/users/41759/profile...          Battersea   \n",
       "\n",
       "   host_listings_count  host_total_listings_count  \\\n",
       "0                  3.0                        3.0   \n",
       "1                  4.0                        4.0   \n",
       "2                  1.0                        1.0   \n",
       "3                 18.0                       18.0   \n",
       "4                  0.0                        0.0   \n",
       "\n",
       "                                  host_verifications host_has_profile_pic  \\\n",
       "0  ['email', 'phone', 'reviews', 'jumio', 'offlin...                    t   \n",
       "1          ['email', 'phone', 'facebook', 'reviews']                    t   \n",
       "2  ['email', 'phone', 'reviews', 'jumio', 'govern...                    t   \n",
       "3  ['email', 'phone', 'reviews', 'jumio', 'offlin...                    t   \n",
       "4  ['email', 'phone', 'reviews', 'jumio', 'offlin...                    t   \n",
       "\n",
       "  host_identity_verified                                     street  \\\n",
       "0                      t                     London, United Kingdom   \n",
       "1                      f  Islington, Greater London, United Kingdom   \n",
       "2                      t                     London, United Kingdom   \n",
       "3                      t          London, Fitzrovia, United Kingdom   \n",
       "4                      t                     London, United Kingdom   \n",
       "\n",
       "         neighbourhood  neighbourhood_cleansed  neighbourhood_group_cleansed  \\\n",
       "0              Brixton                 Lambeth                           NaN   \n",
       "1      LB of Islington               Islington                           NaN   \n",
       "2              Chelsea  Kensington and Chelsea                           NaN   \n",
       "3  City of Westminster             Westminster                           NaN   \n",
       "4     LB of Wandsworth              Wandsworth                           NaN   \n",
       "\n",
       "        city           state   zipcode  market             smart_location  \\\n",
       "0     London             NaN   SW9 8DG  London     London, United Kingdom   \n",
       "1  Islington  Greater London      N4 3  London  Islington, United Kingdom   \n",
       "2     London             NaN       SW3  London     London, United Kingdom   \n",
       "3     London       Fitzrovia    W1T4BP  London     London, United Kingdom   \n",
       "4     London             NaN  SW11 5GX  London     London, United Kingdom   \n",
       "\n",
       "  country_code         country  latitude  longitude is_location_exact  \\\n",
       "0           GB  United Kingdom  51.46225   -0.11732                 t   \n",
       "1           GB  United Kingdom  51.56802   -0.11121                 t   \n",
       "2           GB  United Kingdom  51.48796   -0.16898                 t   \n",
       "3           GB  United Kingdom  51.52098   -0.14002                 t   \n",
       "4           GB  United Kingdom  51.47298   -0.16376                 t   \n",
       "\n",
       "  property_type        room_type  accommodates  bathrooms  bedrooms  beds  \\\n",
       "0     Apartment  Entire home/apt             4        1.0       1.0   1.0   \n",
       "1     Apartment     Private room             2        1.0       1.0   0.0   \n",
       "2     Apartment  Entire home/apt             2        1.0       1.0   1.0   \n",
       "3     Apartment  Entire home/apt             6        2.0       3.0   4.0   \n",
       "4     Townhouse  Entire home/apt             2        1.5       1.0   1.0   \n",
       "\n",
       "   bed_type                                          amenities  square_feet  \\\n",
       "0  Real Bed  {TV,\"Cable TV\",Internet,Wifi,Kitchen,\"Paid par...          NaN   \n",
       "1  Real Bed  {TV,\"Cable TV\",Wifi,Kitchen,\"Paid parking off ...        538.0   \n",
       "2  Real Bed  {TV,\"Cable TV\",Internet,Wifi,\"Air conditioning...          NaN   \n",
       "3  Real Bed  {TV,Wifi,Kitchen,\"Paid parking off premises\",E...          NaN   \n",
       "4  Real Bed  {TV,\"Cable TV\",Internet,Wifi,Kitchen,\"Free par...       1001.0   \n",
       "\n",
       "     price weekly_price monthly_price security_deposit cleaning_fee  \\\n",
       "0   $88.00      $645.00     $2,350.00          $400.00       $30.00   \n",
       "1   $65.00      $333.00     $1,176.00          $100.00       $15.00   \n",
       "2  $100.00      $600.00     $2,250.00          $150.00       $50.00   \n",
       "3  $300.00    $1,378.00           NaN          $350.00       $65.00   \n",
       "4  $175.00    $1,050.00     $3,500.00          $250.00       $70.00   \n",
       "\n",
       "   guests_included extra_people  minimum_nights  maximum_nights  \\\n",
       "0                2       $20.00               2             180   \n",
       "1                1       $15.00               1              29   \n",
       "2                2        $0.00              30              50   \n",
       "3                4       $10.00               3             365   \n",
       "4                2        $0.00              30            1125   \n",
       "\n",
       "   minimum_minimum_nights  maximum_minimum_nights  minimum_maximum_nights  \\\n",
       "0                       2                       2                     180   \n",
       "1                       1                       1                      29   \n",
       "2                      30                      30                      50   \n",
       "3                       2                       3                     365   \n",
       "4                      30                      30                    1125   \n",
       "\n",
       "   maximum_maximum_nights  minimum_nights_avg_ntm  maximum_nights_avg_ntm  \\\n",
       "0                     180                     2.0                   180.0   \n",
       "1                      29                     1.0                    29.0   \n",
       "2                      50                    30.0                    50.0   \n",
       "3                     365                     3.0                   365.0   \n",
       "4                    1125                    30.0                  1125.0   \n",
       "\n",
       "  calendar_updated has_availability  availability_30  availability_60  \\\n",
       "0       4 days ago                t               19               42   \n",
       "1     5 months ago                t               18               48   \n",
       "2       4 days ago                t                8                8   \n",
       "3       5 days ago                t               12               36   \n",
       "4     6 months ago                t               11               41   \n",
       "\n",
       "   availability_90  availability_365 calendar_last_scraped  number_of_reviews  \\\n",
       "0               72               344            2019-09-15                184   \n",
       "1               78               353            2019-09-15                 16   \n",
       "2                8               114            2019-09-15                 87   \n",
       "3               54               265            2019-09-15                 41   \n",
       "4               71               346            2019-09-15                 93   \n",
       "\n",
       "   number_of_reviews_ltm first_review last_review  review_scores_rating  \\\n",
       "0                      1   2010-03-21  2019-07-10                  92.0   \n",
       "1                      2   2010-08-18  2019-06-10                  96.0   \n",
       "2                      6   2009-12-21  2019-08-27                  96.0   \n",
       "3                      5   2011-03-21  2019-06-19                  94.0   \n",
       "4                      1   2010-11-15  2019-06-08                  98.0   \n",
       "\n",
       "   review_scores_accuracy  review_scores_cleanliness  review_scores_checkin  \\\n",
       "0                     9.0                        9.0                   10.0   \n",
       "1                     9.0                       10.0                    9.0   \n",
       "2                    10.0                       10.0                   10.0   \n",
       "3                    10.0                        9.0                    9.0   \n",
       "4                    10.0                       10.0                   10.0   \n",
       "\n",
       "   review_scores_communication  review_scores_location  review_scores_value  \\\n",
       "0                         10.0                     9.0                  9.0   \n",
       "1                         10.0                     9.0                  9.0   \n",
       "2                         10.0                    10.0                  9.0   \n",
       "3                          9.0                    10.0                  9.0   \n",
       "4                         10.0                     9.0                  9.0   \n",
       "\n",
       "  requires_license license jurisdiction_names instant_bookable  \\\n",
       "0                f     NaN                NaN                t   \n",
       "1                f     NaN                NaN                f   \n",
       "2                f     NaN                NaN                t   \n",
       "3                f     NaN                NaN                t   \n",
       "4                f     NaN                NaN                f   \n",
       "\n",
       "  is_business_travel_ready          cancellation_policy  \\\n",
       "0                        f  strict_14_with_grace_period   \n",
       "1                        f                     moderate   \n",
       "2                        f  strict_14_with_grace_period   \n",
       "3                        f  strict_14_with_grace_period   \n",
       "4                        f                     moderate   \n",
       "\n",
       "  require_guest_profile_picture require_guest_phone_verification  \\\n",
       "0                             f                                t   \n",
       "1                             f                                f   \n",
       "2                             t                                t   \n",
       "3                             f                                f   \n",
       "4                             t                                t   \n",
       "\n",
       "   calculated_host_listings_count  \\\n",
       "0                               2   \n",
       "1                               3   \n",
       "2                               1   \n",
       "3                              15   \n",
       "4                               1   \n",
       "\n",
       "   calculated_host_listings_count_entire_homes  \\\n",
       "0                                            2   \n",
       "1                                            1   \n",
       "2                                            1   \n",
       "3                                           15   \n",
       "4                                            1   \n",
       "\n",
       "   calculated_host_listings_count_private_rooms  \\\n",
       "0                                             0   \n",
       "1                                             2   \n",
       "2                                             0   \n",
       "3                                             0   \n",
       "4                                             0   \n",
       "\n",
       "   calculated_host_listings_count_shared_rooms  reviews_per_month  \n",
       "0                                            0               1.59  \n",
       "1                                            0               0.14  \n",
       "2                                            0               0.73  \n",
       "3                                            0               0.40  \n",
       "4                                            0               0.86  "
      ]
     },
     "execution_count": 504,
     "metadata": {},
     "output_type": "execute_result"
    }
   ],
   "source": [
    "# verify dataframe dimensions features=columns entries=data\n",
    "print(\"Features:\\t{}\\nEntries: \\t{}\".format(listing.shape[1], listing.shape[0]))\n",
    "pd.set_option('display.max_columns', len(listing.columns)) # To view all columns\n",
    "pd.set_option('display.max_rows', 100)\n",
    "listing.head()"
   ]
  },
  {
   "cell_type": "code",
   "execution_count": 505,
   "metadata": {},
   "outputs": [
    {
     "data": {
      "text/html": [
       "<div>\n",
       "<style scoped>\n",
       "    .dataframe tbody tr th:only-of-type {\n",
       "        vertical-align: middle;\n",
       "    }\n",
       "\n",
       "    .dataframe tbody tr th {\n",
       "        vertical-align: top;\n",
       "    }\n",
       "\n",
       "    .dataframe thead th {\n",
       "        text-align: right;\n",
       "    }\n",
       "</style>\n",
       "<table border=\"1\" class=\"dataframe\">\n",
       "  <thead>\n",
       "    <tr style=\"text-align: right;\">\n",
       "      <th></th>\n",
       "      <th>listing_id</th>\n",
       "      <th>id</th>\n",
       "      <th>date</th>\n",
       "      <th>reviewer_id</th>\n",
       "      <th>reviewer_name</th>\n",
       "      <th>comments</th>\n",
       "    </tr>\n",
       "  </thead>\n",
       "  <tbody>\n",
       "    <tr>\n",
       "      <td>0</td>\n",
       "      <td>11551</td>\n",
       "      <td>30672</td>\n",
       "      <td>2010-03-21</td>\n",
       "      <td>93896</td>\n",
       "      <td>Shar-Lyn</td>\n",
       "      <td>The flat was bright, comfortable and clean and...</td>\n",
       "    </tr>\n",
       "    <tr>\n",
       "      <td>1</td>\n",
       "      <td>11551</td>\n",
       "      <td>32236</td>\n",
       "      <td>2010-03-29</td>\n",
       "      <td>97890</td>\n",
       "      <td>Zane</td>\n",
       "      <td>We stayed with Adriano and Valerio for a week ...</td>\n",
       "    </tr>\n",
       "    <tr>\n",
       "      <td>2</td>\n",
       "      <td>11551</td>\n",
       "      <td>41044</td>\n",
       "      <td>2010-05-09</td>\n",
       "      <td>104133</td>\n",
       "      <td>Chase</td>\n",
       "      <td>Adriano was a fantastic host. We felt very at ...</td>\n",
       "    </tr>\n",
       "    <tr>\n",
       "      <td>3</td>\n",
       "      <td>11551</td>\n",
       "      <td>48926</td>\n",
       "      <td>2010-06-01</td>\n",
       "      <td>122714</td>\n",
       "      <td>John &amp; Sylvia</td>\n",
       "      <td>We had a most wonderful stay with Adriano and ...</td>\n",
       "    </tr>\n",
       "    <tr>\n",
       "      <td>4</td>\n",
       "      <td>11551</td>\n",
       "      <td>58352</td>\n",
       "      <td>2010-06-28</td>\n",
       "      <td>111543</td>\n",
       "      <td>Monique</td>\n",
       "      <td>I'm not sure which of us misunderstood the s...</td>\n",
       "    </tr>\n",
       "  </tbody>\n",
       "</table>\n",
       "</div>"
      ],
      "text/plain": [
       "   listing_id     id        date  reviewer_id  reviewer_name  \\\n",
       "0       11551  30672  2010-03-21        93896       Shar-Lyn   \n",
       "1       11551  32236  2010-03-29        97890           Zane   \n",
       "2       11551  41044  2010-05-09       104133          Chase   \n",
       "3       11551  48926  2010-06-01       122714  John & Sylvia   \n",
       "4       11551  58352  2010-06-28       111543        Monique   \n",
       "\n",
       "                                            comments  \n",
       "0  The flat was bright, comfortable and clean and...  \n",
       "1  We stayed with Adriano and Valerio for a week ...  \n",
       "2  Adriano was a fantastic host. We felt very at ...  \n",
       "3  We had a most wonderful stay with Adriano and ...  \n",
       "4    I'm not sure which of us misunderstood the s...  "
      ]
     },
     "execution_count": 505,
     "metadata": {},
     "output_type": "execute_result"
    }
   ],
   "source": [
    "reviews.head()"
   ]
  },
  {
   "cell_type": "markdown",
   "metadata": {},
   "source": [
    "**Comments:** This work will mainly have a overview about listings dataset in first part of analysis, next step will also look at reviews dataset comparing these reviews with location, then look at description title of listings and last evaluate how amenities influencing in price."
   ]
  },
  {
   "cell_type": "markdown",
   "metadata": {},
   "source": [
    "# Data cleaning"
   ]
  },
  {
   "cell_type": "markdown",
   "metadata": {},
   "source": [
    "Dropping all columns that seems not relevant to this analysis as listing_url,street, city, state because will be analysed London only. Street don't need to be included it has been analysed by neighbourhood."
   ]
  },
  {
   "cell_type": "code",
   "execution_count": 506,
   "metadata": {},
   "outputs": [],
   "source": [
    "#drop some columns that seems unnecessary\n",
    "cols_to_drop = ['listing_url','host_since','scrape_id','host_has_profile_pic',\n",
    "                 'street', 'city','state', 'zipcode','scrape_id', 'last_scraped', 'space',  'neighborhood_overview', 'notes', 'transit', 'access', 'interaction', \n",
    "                'house_rules', 'thumbnail_url', 'medium_url', 'picture_url', 'xl_picture_url', 'host_id', 'host_url', 'host_name', 'host_location', 'host_about', 'host_thumbnail_url', 'host_picture_url',\n",
    "                'host_neighbourhood', 'host_verifications', 'calendar_last_scraped', 'host_acceptance_rate']\n",
    "listing = listing.drop(cols_to_drop, axis=1)"
   ]
  },
  {
   "cell_type": "code",
   "execution_count": 507,
   "metadata": {
    "scrolled": true
   },
   "outputs": [
    {
     "data": {
      "text/plain": [
       "id                                                int64\n",
       "name                                             object\n",
       "summary                                          object\n",
       "description                                      object\n",
       "experiences_offered                              object\n",
       "host_response_time                               object\n",
       "host_response_rate                               object\n",
       "host_is_superhost                                object\n",
       "host_listings_count                             float64\n",
       "host_total_listings_count                       float64\n",
       "host_identity_verified                           object\n",
       "neighbourhood                                    object\n",
       "neighbourhood_cleansed                           object\n",
       "neighbourhood_group_cleansed                    float64\n",
       "market                                           object\n",
       "smart_location                                   object\n",
       "country_code                                     object\n",
       "country                                          object\n",
       "latitude                                        float64\n",
       "longitude                                       float64\n",
       "is_location_exact                                object\n",
       "property_type                                    object\n",
       "room_type                                        object\n",
       "accommodates                                      int64\n",
       "bathrooms                                       float64\n",
       "bedrooms                                        float64\n",
       "beds                                            float64\n",
       "bed_type                                         object\n",
       "amenities                                        object\n",
       "square_feet                                     float64\n",
       "price                                            object\n",
       "weekly_price                                     object\n",
       "monthly_price                                    object\n",
       "security_deposit                                 object\n",
       "cleaning_fee                                     object\n",
       "guests_included                                   int64\n",
       "extra_people                                     object\n",
       "minimum_nights                                    int64\n",
       "maximum_nights                                    int64\n",
       "minimum_minimum_nights                            int64\n",
       "maximum_minimum_nights                            int64\n",
       "minimum_maximum_nights                            int64\n",
       "maximum_maximum_nights                            int64\n",
       "minimum_nights_avg_ntm                          float64\n",
       "maximum_nights_avg_ntm                          float64\n",
       "calendar_updated                                 object\n",
       "has_availability                                 object\n",
       "availability_30                                   int64\n",
       "availability_60                                   int64\n",
       "availability_90                                   int64\n",
       "availability_365                                  int64\n",
       "number_of_reviews                                 int64\n",
       "number_of_reviews_ltm                             int64\n",
       "first_review                                     object\n",
       "last_review                                      object\n",
       "review_scores_rating                            float64\n",
       "review_scores_accuracy                          float64\n",
       "review_scores_cleanliness                       float64\n",
       "review_scores_checkin                           float64\n",
       "review_scores_communication                     float64\n",
       "review_scores_location                          float64\n",
       "review_scores_value                             float64\n",
       "requires_license                                 object\n",
       "license                                          object\n",
       "jurisdiction_names                               object\n",
       "instant_bookable                                 object\n",
       "is_business_travel_ready                         object\n",
       "cancellation_policy                              object\n",
       "require_guest_profile_picture                    object\n",
       "require_guest_phone_verification                 object\n",
       "calculated_host_listings_count                    int64\n",
       "calculated_host_listings_count_entire_homes       int64\n",
       "calculated_host_listings_count_private_rooms      int64\n",
       "calculated_host_listings_count_shared_rooms       int64\n",
       "reviews_per_month                               float64\n",
       "dtype: object"
      ]
     },
     "execution_count": 507,
     "metadata": {},
     "output_type": "execute_result"
    }
   ],
   "source": [
    "#check data types after drop some columns\n",
    "listing.dtypes"
   ]
  },
  {
   "cell_type": "markdown",
   "metadata": {},
   "source": []
  },
  {
   "cell_type": "code",
   "execution_count": 508,
   "metadata": {
    "scrolled": true
   },
   "outputs": [
    {
     "data": {
      "text/plain": [
       "neighbourhood_group_cleansed                    85273\n",
       "jurisdiction_names                              85271\n",
       "license                                         85100\n",
       "square_feet                                     84859\n",
       "monthly_price                                   80144\n",
       "weekly_price                                    78082\n",
       "security_deposit                                29652\n",
       "host_response_time                              24822\n",
       "host_response_rate                              24822\n",
       "review_scores_checkin                           22781\n",
       "review_scores_value                             22781\n",
       "review_scores_location                          22780\n",
       "review_scores_accuracy                          22733\n",
       "review_scores_communication                     22726\n",
       "review_scores_cleanliness                       22720\n",
       "review_scores_rating                            22682\n",
       "cleaning_fee                                    21529\n",
       "last_review                                     21003\n",
       "first_review                                    21003\n",
       "reviews_per_month                               21003\n",
       "summary                                          4230\n",
       "description                                      2252\n",
       "market                                            830\n",
       "beds                                              153\n",
       "bathrooms                                         127\n",
       "bedrooms                                           42\n",
       "name                                               25\n",
       "host_identity_verified                             16\n",
       "host_is_superhost                                  16\n",
       "host_listings_count                                16\n",
       "host_total_listings_count                          16\n",
       "country_code                                        0\n",
       "neighbourhood_cleansed                              0\n",
       "experiences_offered                                 0\n",
       "bed_type                                            0\n",
       "neighbourhood                                       0\n",
       "smart_location                                      0\n",
       "country                                             0\n",
       "accommodates                                        0\n",
       "room_type                                           0\n",
       "property_type                                       0\n",
       "is_location_exact                                   0\n",
       "longitude                                           0\n",
       "latitude                                            0\n",
       "amenities                                           0\n",
       "minimum_nights                                      0\n",
       "price                                               0\n",
       "availability_90                                     0\n",
       "calculated_host_listings_count_private_rooms        0\n",
       "calculated_host_listings_count_entire_homes         0\n",
       "calculated_host_listings_count                      0\n",
       "require_guest_phone_verification                    0\n",
       "require_guest_profile_picture                       0\n",
       "cancellation_policy                                 0\n",
       "is_business_travel_ready                            0\n",
       "instant_bookable                                    0\n",
       "requires_license                                    0\n",
       "number_of_reviews_ltm                               0\n",
       "number_of_reviews                                   0\n",
       "availability_365                                    0\n",
       "availability_60                                     0\n",
       "guests_included                                     0\n",
       "availability_30                                     0\n",
       "has_availability                                    0\n",
       "calendar_updated                                    0\n",
       "maximum_nights_avg_ntm                              0\n",
       "minimum_nights_avg_ntm                              0\n",
       "maximum_maximum_nights                              0\n",
       "minimum_maximum_nights                              0\n",
       "maximum_minimum_nights                              0\n",
       "minimum_minimum_nights                              0\n",
       "maximum_nights                                      0\n",
       "calculated_host_listings_count_shared_rooms         0\n",
       "extra_people                                        0\n",
       "id                                                  0\n",
       "dtype: int64"
      ]
     },
     "execution_count": 508,
     "metadata": {},
     "output_type": "execute_result"
    }
   ],
   "source": [
    "#check missing values\n",
    "listing.isnull().sum().sort_values(ascending=False)"
   ]
  },
  {
   "cell_type": "code",
   "execution_count": 509,
   "metadata": {
    "scrolled": true
   },
   "outputs": [
    {
     "ename": "KeyError",
     "evalue": "\"['medium_url' 'xl_picture_url'] not found in axis\"",
     "output_type": "error",
     "traceback": [
      "\u001b[1;31m---------------------------------------------------------------------------\u001b[0m",
      "\u001b[1;31mKeyError\u001b[0m                                  Traceback (most recent call last)",
      "\u001b[1;32m<ipython-input-509-54332b158c01>\u001b[0m in \u001b[0;36m<module>\u001b[1;34m\u001b[0m\n\u001b[0;32m      1\u001b[0m \u001b[1;31m# Remove more columns\u001b[0m\u001b[1;33m\u001b[0m\u001b[1;33m\u001b[0m\u001b[1;33m\u001b[0m\u001b[0m\n\u001b[0;32m      2\u001b[0m listing = listing.drop(['market','neighbourhood_group_cleansed','square_feet', 'country_code','availability_365','license','jurisdiction_names','instant_bookable', \n\u001b[1;32m----> 3\u001b[1;33m                         'calculated_host_listings_count', 'require_guest_profile_picture', 'require_guest_phone_verification', 'is_business_travel_ready', 'has_availability', 'medium_url', 'xl_picture_url'], 1)\n\u001b[0m",
      "\u001b[1;32m~\\Anaconda3\\lib\\site-packages\\pandas\\core\\frame.py\u001b[0m in \u001b[0;36mdrop\u001b[1;34m(self, labels, axis, index, columns, level, inplace, errors)\u001b[0m\n\u001b[0;32m   4100\u001b[0m             \u001b[0mlevel\u001b[0m\u001b[1;33m=\u001b[0m\u001b[0mlevel\u001b[0m\u001b[1;33m,\u001b[0m\u001b[1;33m\u001b[0m\u001b[1;33m\u001b[0m\u001b[0m\n\u001b[0;32m   4101\u001b[0m             \u001b[0minplace\u001b[0m\u001b[1;33m=\u001b[0m\u001b[0minplace\u001b[0m\u001b[1;33m,\u001b[0m\u001b[1;33m\u001b[0m\u001b[1;33m\u001b[0m\u001b[0m\n\u001b[1;32m-> 4102\u001b[1;33m             \u001b[0merrors\u001b[0m\u001b[1;33m=\u001b[0m\u001b[0merrors\u001b[0m\u001b[1;33m,\u001b[0m\u001b[1;33m\u001b[0m\u001b[1;33m\u001b[0m\u001b[0m\n\u001b[0m\u001b[0;32m   4103\u001b[0m         )\n\u001b[0;32m   4104\u001b[0m \u001b[1;33m\u001b[0m\u001b[0m\n",
      "\u001b[1;32m~\\Anaconda3\\lib\\site-packages\\pandas\\core\\generic.py\u001b[0m in \u001b[0;36mdrop\u001b[1;34m(self, labels, axis, index, columns, level, inplace, errors)\u001b[0m\n\u001b[0;32m   3912\u001b[0m         \u001b[1;32mfor\u001b[0m \u001b[0maxis\u001b[0m\u001b[1;33m,\u001b[0m \u001b[0mlabels\u001b[0m \u001b[1;32min\u001b[0m \u001b[0maxes\u001b[0m\u001b[1;33m.\u001b[0m\u001b[0mitems\u001b[0m\u001b[1;33m(\u001b[0m\u001b[1;33m)\u001b[0m\u001b[1;33m:\u001b[0m\u001b[1;33m\u001b[0m\u001b[1;33m\u001b[0m\u001b[0m\n\u001b[0;32m   3913\u001b[0m             \u001b[1;32mif\u001b[0m \u001b[0mlabels\u001b[0m \u001b[1;32mis\u001b[0m \u001b[1;32mnot\u001b[0m \u001b[1;32mNone\u001b[0m\u001b[1;33m:\u001b[0m\u001b[1;33m\u001b[0m\u001b[1;33m\u001b[0m\u001b[0m\n\u001b[1;32m-> 3914\u001b[1;33m                 \u001b[0mobj\u001b[0m \u001b[1;33m=\u001b[0m \u001b[0mobj\u001b[0m\u001b[1;33m.\u001b[0m\u001b[0m_drop_axis\u001b[0m\u001b[1;33m(\u001b[0m\u001b[0mlabels\u001b[0m\u001b[1;33m,\u001b[0m \u001b[0maxis\u001b[0m\u001b[1;33m,\u001b[0m \u001b[0mlevel\u001b[0m\u001b[1;33m=\u001b[0m\u001b[0mlevel\u001b[0m\u001b[1;33m,\u001b[0m \u001b[0merrors\u001b[0m\u001b[1;33m=\u001b[0m\u001b[0merrors\u001b[0m\u001b[1;33m)\u001b[0m\u001b[1;33m\u001b[0m\u001b[1;33m\u001b[0m\u001b[0m\n\u001b[0m\u001b[0;32m   3915\u001b[0m \u001b[1;33m\u001b[0m\u001b[0m\n\u001b[0;32m   3916\u001b[0m         \u001b[1;32mif\u001b[0m \u001b[0minplace\u001b[0m\u001b[1;33m:\u001b[0m\u001b[1;33m\u001b[0m\u001b[1;33m\u001b[0m\u001b[0m\n",
      "\u001b[1;32m~\\Anaconda3\\lib\\site-packages\\pandas\\core\\generic.py\u001b[0m in \u001b[0;36m_drop_axis\u001b[1;34m(self, labels, axis, level, errors)\u001b[0m\n\u001b[0;32m   3944\u001b[0m                 \u001b[0mnew_axis\u001b[0m \u001b[1;33m=\u001b[0m \u001b[0maxis\u001b[0m\u001b[1;33m.\u001b[0m\u001b[0mdrop\u001b[0m\u001b[1;33m(\u001b[0m\u001b[0mlabels\u001b[0m\u001b[1;33m,\u001b[0m \u001b[0mlevel\u001b[0m\u001b[1;33m=\u001b[0m\u001b[0mlevel\u001b[0m\u001b[1;33m,\u001b[0m \u001b[0merrors\u001b[0m\u001b[1;33m=\u001b[0m\u001b[0merrors\u001b[0m\u001b[1;33m)\u001b[0m\u001b[1;33m\u001b[0m\u001b[1;33m\u001b[0m\u001b[0m\n\u001b[0;32m   3945\u001b[0m             \u001b[1;32melse\u001b[0m\u001b[1;33m:\u001b[0m\u001b[1;33m\u001b[0m\u001b[1;33m\u001b[0m\u001b[0m\n\u001b[1;32m-> 3946\u001b[1;33m                 \u001b[0mnew_axis\u001b[0m \u001b[1;33m=\u001b[0m \u001b[0maxis\u001b[0m\u001b[1;33m.\u001b[0m\u001b[0mdrop\u001b[0m\u001b[1;33m(\u001b[0m\u001b[0mlabels\u001b[0m\u001b[1;33m,\u001b[0m \u001b[0merrors\u001b[0m\u001b[1;33m=\u001b[0m\u001b[0merrors\u001b[0m\u001b[1;33m)\u001b[0m\u001b[1;33m\u001b[0m\u001b[1;33m\u001b[0m\u001b[0m\n\u001b[0m\u001b[0;32m   3947\u001b[0m             \u001b[0mresult\u001b[0m \u001b[1;33m=\u001b[0m \u001b[0mself\u001b[0m\u001b[1;33m.\u001b[0m\u001b[0mreindex\u001b[0m\u001b[1;33m(\u001b[0m\u001b[1;33m**\u001b[0m\u001b[1;33m{\u001b[0m\u001b[0maxis_name\u001b[0m\u001b[1;33m:\u001b[0m \u001b[0mnew_axis\u001b[0m\u001b[1;33m}\u001b[0m\u001b[1;33m)\u001b[0m\u001b[1;33m\u001b[0m\u001b[1;33m\u001b[0m\u001b[0m\n\u001b[0;32m   3948\u001b[0m \u001b[1;33m\u001b[0m\u001b[0m\n",
      "\u001b[1;32m~\\Anaconda3\\lib\\site-packages\\pandas\\core\\indexes\\base.py\u001b[0m in \u001b[0;36mdrop\u001b[1;34m(self, labels, errors)\u001b[0m\n\u001b[0;32m   5338\u001b[0m         \u001b[1;32mif\u001b[0m \u001b[0mmask\u001b[0m\u001b[1;33m.\u001b[0m\u001b[0many\u001b[0m\u001b[1;33m(\u001b[0m\u001b[1;33m)\u001b[0m\u001b[1;33m:\u001b[0m\u001b[1;33m\u001b[0m\u001b[1;33m\u001b[0m\u001b[0m\n\u001b[0;32m   5339\u001b[0m             \u001b[1;32mif\u001b[0m \u001b[0merrors\u001b[0m \u001b[1;33m!=\u001b[0m \u001b[1;34m\"ignore\"\u001b[0m\u001b[1;33m:\u001b[0m\u001b[1;33m\u001b[0m\u001b[1;33m\u001b[0m\u001b[0m\n\u001b[1;32m-> 5340\u001b[1;33m                 \u001b[1;32mraise\u001b[0m \u001b[0mKeyError\u001b[0m\u001b[1;33m(\u001b[0m\u001b[1;34m\"{} not found in axis\"\u001b[0m\u001b[1;33m.\u001b[0m\u001b[0mformat\u001b[0m\u001b[1;33m(\u001b[0m\u001b[0mlabels\u001b[0m\u001b[1;33m[\u001b[0m\u001b[0mmask\u001b[0m\u001b[1;33m]\u001b[0m\u001b[1;33m)\u001b[0m\u001b[1;33m)\u001b[0m\u001b[1;33m\u001b[0m\u001b[1;33m\u001b[0m\u001b[0m\n\u001b[0m\u001b[0;32m   5341\u001b[0m             \u001b[0mindexer\u001b[0m \u001b[1;33m=\u001b[0m \u001b[0mindexer\u001b[0m\u001b[1;33m[\u001b[0m\u001b[1;33m~\u001b[0m\u001b[0mmask\u001b[0m\u001b[1;33m]\u001b[0m\u001b[1;33m\u001b[0m\u001b[1;33m\u001b[0m\u001b[0m\n\u001b[0;32m   5342\u001b[0m         \u001b[1;32mreturn\u001b[0m \u001b[0mself\u001b[0m\u001b[1;33m.\u001b[0m\u001b[0mdelete\u001b[0m\u001b[1;33m(\u001b[0m\u001b[0mindexer\u001b[0m\u001b[1;33m)\u001b[0m\u001b[1;33m\u001b[0m\u001b[1;33m\u001b[0m\u001b[0m\n",
      "\u001b[1;31mKeyError\u001b[0m: \"['medium_url' 'xl_picture_url'] not found in axis\""
     ]
    }
   ],
   "source": [
    "# Remove more columns\n",
    "listing = listing.drop(['market','neighbourhood_group_cleansed','square_feet', 'country_code','availability_365','license','jurisdiction_names','instant_bookable', \n",
    "                        'calculated_host_listings_count', 'require_guest_profile_picture', 'require_guest_phone_verification', 'is_business_travel_ready', 'has_availability', 'medium_url', 'xl_picture_url'], 1)\n"
   ]
  },
  {
   "cell_type": "code",
   "execution_count": null,
   "metadata": {},
   "outputs": [],
   "source": [
    "# Replacing columns with f/t with 0/1\n",
    "listing.replace({'f': 0, 't': 1}, inplace=True)\n",
    "\n",
    "# Plotting the distribution of numerical and boolean categories\n",
    "listing.hist(figsize=(20,20));"
   ]
  },
  {
   "cell_type": "markdown",
   "metadata": {},
   "source": [
    "**Comments:** The cells above shows types of variables, quantity of missing number to be handle and distribution of categorical, boolean values in order understand better data and presence of outliers."
   ]
  },
  {
   "cell_type": "code",
   "execution_count": null,
   "metadata": {},
   "outputs": [],
   "source": [
    "#Distribution of listings type\n",
    "listing.groupby('room_type').count()['id']"
   ]
  },
  {
   "cell_type": "markdown",
   "metadata": {
    "scrolled": true
   },
   "source": [
    "**Comment:** Number of entire home/apt is the highest, followed by private room, however hotel room and shared room is much lower. Seems that people use to rent their house when they are out as way of increase their earnings."
   ]
  },
  {
   "cell_type": "code",
   "execution_count": null,
   "metadata": {
    "scrolled": true
   },
   "outputs": [],
   "source": [
    "\n",
    "listing.groupby(['neighbourhood_cleansed', ]).count()['id']"
   ]
  },
  {
   "cell_type": "code",
   "execution_count": null,
   "metadata": {},
   "outputs": [],
   "source": [
    "corr = listing.corr()\n",
    "print(corr.head())\n",
    "\n",
    "plt.figure(figsize = (10,10))\n",
    "\n",
    "ax = sns.heatmap(\n",
    "    corr, \n",
    "    vmin=-1, vmax=1, center=0,\n",
    "    cmap=sns.diverging_palette(20, 220, n=200),\n",
    "    square=True)\n"
   ]
  },
  {
   "cell_type": "code",
   "execution_count": null,
   "metadata": {},
   "outputs": [],
   "source": [
    "listing[['accommodates', 'bathrooms', 'bedrooms', 'beds']].hist(figsize=(8,6));"
   ]
  },
  {
   "cell_type": "code",
   "execution_count": null,
   "metadata": {},
   "outputs": [],
   "source": []
  },
  {
   "cell_type": "code",
   "execution_count": null,
   "metadata": {},
   "outputs": [],
   "source": []
  },
  {
   "cell_type": "markdown",
   "metadata": {},
   "source": [
    "**Comment:** Check quantity of listing per boroughs of London, Westminster and Tower Hamlets have the majority of listings, despite the listings are distributed around whole London."
   ]
  },
  {
   "cell_type": "code",
   "execution_count": null,
   "metadata": {},
   "outputs": [],
   "source": [
    "#using commas to separate amenities strings\n",
    "listing.amenities = listing.amenities.str.replace(\"[{}]\", \"\").str.replace('\"', \"\")\n",
    "listing['amenities'].head()"
   ]
  },
  {
   "cell_type": "markdown",
   "metadata": {},
   "source": [
    "**Comment:** It's known that some amenities is more important and common than other is the last part of this analysis selection of more important amenities will be made and also they can contribute in higher or lower prices."
   ]
  },
  {
   "cell_type": "markdown",
   "metadata": {},
   "source": [
    "# Convert price to numerical variable"
   ]
  },
  {
   "cell_type": "code",
   "execution_count": null,
   "metadata": {},
   "outputs": [],
   "source": [
    "#Convert the prices to numerical variable\n",
    "price_clean = listing['price'].str.replace(\"$\",\"\").str.replace(',','').astype(float)\n",
    "listing['price'] = price_clean"
   ]
  },
  {
   "cell_type": "markdown",
   "metadata": {},
   "source": [
    "**Comment:** Price will be converted to an interger because currently they are as string including currency sign."
   ]
  },
  {
   "cell_type": "code",
   "execution_count": null,
   "metadata": {},
   "outputs": [],
   "source": [
    "plt.figure(figsize=(10,5))\n",
    "listing.groupby('accommodates').price.median().plot(kind='bar')\n",
    "plt.title('Median price of Airbnbs accommodating different number of guests', fontsize=14)\n",
    "plt.xlabel('Number of guests accommodated', fontsize=13)\n",
    "plt.ylabel('Median price (£)', fontsize=13)\n",
    "plt.xticks(rotation=0)\n",
    "plt.xlim(left=0.5)\n",
    "plt.show()"
   ]
  },
  {
   "cell_type": "code",
   "execution_count": null,
   "metadata": {},
   "outputs": [],
   "source": []
  },
  {
   "cell_type": "markdown",
   "metadata": {},
   "source": [
    "# Price distribution in listings"
   ]
  },
  {
   "cell_type": "markdown",
   "metadata": {},
   "source": [
    "**Comment:** Price is the target variable in this analysis for this reason is fundamental to understand well how it is distributed before start data preparation. Below 3 different histograms was created, one using all the data and the last 2 setting smaller number of bins.  "
   ]
  },
  {
   "cell_type": "code",
   "execution_count": null,
   "metadata": {},
   "outputs": [],
   "source": [
    "#Price distribution in listings\n",
    "#Function to plot histogramas\n",
    "# Input: n(interger for subplots)\n",
    "#        titles (list of titles)\n",
    "#        ranges (list of values)\n",
    "# Output: None\n",
    "\n",
    "def plot_hist(n, titles, ranges):\n",
    "    fig, ax = plt.subplots(n, figsize = (8, 7.5))\n",
    "    for i in range(n):\n",
    "        d, bins, patches = ax[i].hist(ranges[i], 50, density = 1,color= BNB_RED,  alpha = 0.85)\n",
    "        ax[i].set_title(titles[i])\n",
    "        ax[i].set_xlabel(\"Daily Listing Price in Pounds\")\n",
    "        ax[i].set_ylabel(\"Frequency\")\n",
    "    plt.tight_layout()\n",
    "    plt.show()\n",
    "prices = listing['price']\n",
    "\n",
    "# Plot histograms of price distribution\n",
    "plot_hist(3, ['Distribution of Listing Prices: All Data', 'Distribution of Listing Prices: £0 -  £1000', \n",
    "               'Distribution of Listing Prices: £0 - £350'], [prices, prices[prices <= 1000], prices[prices < 350]])"
   ]
  },
  {
   "cell_type": "markdown",
   "metadata": {},
   "source": [
    "# Distribution of listing by geographical location"
   ]
  },
  {
   "cell_type": "code",
   "execution_count": null,
   "metadata": {
    "scrolled": true
   },
   "outputs": [],
   "source": [
    "# Distribution of listing by geographical location\n",
    "# Outline price buckets\n",
    "intervals = [0,100,300, 1000]\n",
    "leg_labels = []\n",
    "\n",
    "# Get Labels for legend\n",
    "for i in range(0,len(intervals) - 1):\n",
    "    if i == len(intervals) - 2:\n",
    "        leg_labels.append('£{}+'.format(intervals[i]))\n",
    "    else:\n",
    "        leg_labels.append(\"£{}- £{}\".format(intervals[i], intervals[i+1]))    \n",
    "\n",
    "buckets = []\n",
    "\n",
    "# Divide up into price buckets\n",
    "for i in range(0, len(intervals) - 1):\n",
    "    buckets.append(listing[(prices > intervals[i]) & (prices < intervals[i+1])])\n",
    "\n",
    "colors = [BNB_LIGHT_GRAY, BNB_BLUE, BNB_RED]\n",
    "alphas = [0.85, 0.85, 0.85]  \n",
    "\n",
    "\n",
    "\n",
    "# Plot listings on scatterplot\n",
    "plt.figure(figsize=(15, 15))\n",
    "for i in range(0, len(buckets)):\n",
    "    plt.scatter(buckets[i]['longitude'], buckets[i]['latitude'], alpha = alphas[i], c=colors[i], s=25)\n",
    "    \n",
    "plt.title('London Airbnb Listings')\n",
    "plt.xlabel('Longitute')\n",
    "plt.ylabel('Latitude')\n",
    "plt.legend(labels=leg_labels, loc = 'best')\n",
    "plt.xlim(-0.5,0.3)\n",
    "plt.ylim(51.25,51.70)\n",
    "\n",
    "plt.show()"
   ]
  },
  {
   "cell_type": "code",
   "execution_count": null,
   "metadata": {},
   "outputs": [],
   "source": [
    "# Plot graphs neighbourhood vs price\n",
    "fig, (axis1) = plt.subplots(1, figsize=(20,20))\n",
    "\n",
    "sns.barplot(x='price', y='neighbourhood_cleansed', data=listing,orient= 'index', ax=axis1)"
   ]
  },
  {
   "cell_type": "markdown",
   "metadata": {},
   "source": [
    "# Data preparation"
   ]
  },
  {
   "cell_type": "markdown",
   "metadata": {},
   "source": [
    "**Create new column price per person**\n",
    "Airbnb price are listed per night and when allowed to include some guest there is a charge fee per person.This means there are large differences in prices due to number of guests allowed per acommodation, what makes it difficult to compare. To facilitate this comparation and focusing on how tourists normally search for accomodation, a new column price per person (per night) will be created. \n",
    "To calculate price per person (per night) column, first is calculated the normalized total price per night costs corresponding to house's capacity and then divide by house's capacity as shown below."
   ]
  },
  {
   "cell_type": "code",
   "execution_count": null,
   "metadata": {},
   "outputs": [],
   "source": [
    "#The columns needed for obtaining prices per person per night\n",
    "listing[['price', 'accommodates', 'guests_included', 'extra_people']].head()"
   ]
  },
  {
   "cell_type": "code",
   "execution_count": null,
   "metadata": {},
   "outputs": [],
   "source": [
    "#listing price including outliers\n",
    "listing['price'].describe()"
   ]
  },
  {
   "cell_type": "code",
   "execution_count": null,
   "metadata": {},
   "outputs": [],
   "source": []
  },
  {
   "cell_type": "code",
   "execution_count": null,
   "metadata": {},
   "outputs": [],
   "source": [
    "#The columns needed for calculation do not have any missing values\n",
    "listing[['price', 'accommodates', 'guests_included', 'extra_people']].isna().sum()"
   ]
  },
  {
   "cell_type": "code",
   "execution_count": null,
   "metadata": {},
   "outputs": [],
   "source": [
    "#Obtain the number of people that can be accommodated but are not included in the price\n",
    "extra_space = (listing['accommodates'] - listing['guests_included'])\n",
    "extra_space.head(5)"
   ]
  },
  {
   "cell_type": "code",
   "execution_count": null,
   "metadata": {},
   "outputs": [],
   "source": [
    "#Due to inconsistencies in the imported data this number is negative in some rare cases, in this cases will be add 0.\n",
    "extra_space = extra_space.apply(lambda x: 0 if x<0 else x)\n",
    "#Calculate the extra costs\n",
    "extra_price = extra_space*listing['extra_people'].str.replace(\"$\",\"\").str.replace(',','').astype(float)"
   ]
  },
  {
   "cell_type": "code",
   "execution_count": null,
   "metadata": {},
   "outputs": [],
   "source": [
    "#Obtain the price at full capacity and calculate price per person per night\n",
    "listing['price_pp'] = (price_clean + extra_price) / listing['accommodates']"
   ]
  },
  {
   "cell_type": "code",
   "execution_count": null,
   "metadata": {},
   "outputs": [],
   "source": [
    "listing['price_pp'].describe()"
   ]
  },
  {
   "cell_type": "code",
   "execution_count": null,
   "metadata": {},
   "outputs": [],
   "source": [
    "#Distribution of prices with all outliers\n",
    "plt.rcParams['figure.figsize'] = [12, 5]\n",
    "sns.distplot(listing['price']);\n",
    "plt.xlabel('Price per Night');\n",
    "plt.ylabel('Frequency');\n",
    "plt.title('Prices of Airbnb listings in London');"
   ]
  },
  {
   "cell_type": "code",
   "execution_count": null,
   "metadata": {},
   "outputs": [],
   "source": [
    "#Distribution of prices from column price_pp\n",
    "plt.rcParams['figure.figsize'] = [12, 5]\n",
    "sns.distplot(listing['price_pp']);\n",
    "plt.xlabel('Price per person per Night');\n",
    "plt.ylabel('Frequency');\n",
    "plt.title('Prices of Airbnb listings per person per night in London');"
   ]
  },
  {
   "cell_type": "code",
   "execution_count": null,
   "metadata": {
    "scrolled": true
   },
   "outputs": [],
   "source": [
    "# price\n",
    "listing.price.plot(kind='box', vert=False, figsize=(15, 3),)\n",
    "plt.show()\n",
    "\n",
    "# check price over £1000\n",
    "print(\"\\nPrice over £1000:\")\n",
    "print(\"{} entries\".format(len(listing[listing.price > 1000])))\n",
    "print(\"{:.4f}%\".format((len(listing[listing.price > 1000]) / listing.shape[0])*100))\n",
    "\n",
    "# listing.price.plot(kind='box', vert=False, xlim=(0,1300), figsize=(15,3));"
   ]
  },
  {
   "cell_type": "code",
   "execution_count": null,
   "metadata": {},
   "outputs": [],
   "source": []
  },
  {
   "cell_type": "markdown",
   "metadata": {},
   "source": [
    "# Remove outliers"
   ]
  },
  {
   "cell_type": "code",
   "execution_count": null,
   "metadata": {},
   "outputs": [],
   "source": [
    "#Remove outliers using Tukey rule\n",
    "IQR = listing['price_pp'].quantile(0.75) - listing['price_pp'].quantile(0.25)\n",
    "lower_bound = listing['price_pp'].quantile(0.25) - 3*IQR\n",
    "upper_bound = listing['price_pp'].quantile(0.75) + 3*IQR\n",
    "lower_bound, upper_bound"
   ]
  },
  {
   "cell_type": "code",
   "execution_count": null,
   "metadata": {},
   "outputs": [],
   "source": [
    "#Override lower bound with a positive number \n",
    "lower_bound = 5\n",
    "listing = listing[(listing['price_pp']>lower_bound) & (listing['price_pp']<upper_bound)]"
   ]
  },
  {
   "cell_type": "code",
   "execution_count": null,
   "metadata": {},
   "outputs": [],
   "source": [
    "# verify dataframe dimensions features=columns entries=data\n",
    "print(\"Features:\\t{}\\nEntries: \\t{}\".format(listing.shape[1], listing.shape[0]))"
   ]
  },
  {
   "cell_type": "markdown",
   "metadata": {},
   "source": [
    "# Distribution of price per room type."
   ]
  },
  {
   "cell_type": "code",
   "execution_count": null,
   "metadata": {},
   "outputs": [],
   "source": [
    "#Distribution of prices after removing outliers\n",
    "plt.rcParams['figure.figsize'] = [12, 6]\n",
    "#plt.rc('axes', labelsize = 14) \n",
    "#plt.rc('font', size=14)   \n",
    "sns.distplot(listing['price_pp'][listing[\"room_type\"]=='Entire home/apt'],bins = np.arange(0,108,5));\n",
    "plt.xlabel('Price per Person per Night (£)');\n",
    "plt.ylabel('Frequency');\n",
    "plt.title('Distribution of prices of Airbnb apartments in London (without outliers)');\n",
    "#plt.savefig('Price Distribution')"
   ]
  },
  {
   "cell_type": "code",
   "execution_count": null,
   "metadata": {},
   "outputs": [],
   "source": [
    "# We'll make use of the qqplot function from the stasmodel package\n",
    "import statsmodels.api as sm\n",
    "#This contains theoretical distributions\n",
    "from scipy import stats\n",
    "\n",
    "sm.qqplot(listing['price_pp'], dist=stats.norm, line = 'r')\n",
    "plt.show()\n",
    "\n"
   ]
  },
  {
   "cell_type": "code",
   "execution_count": null,
   "metadata": {},
   "outputs": [],
   "source": [
    "# We'll use the np.log() function and use it as a parameter to the pandas .apply() function\n",
    "loggedprice_pp=listing['price_pp'].apply(np.log)\n",
    "fig = sm.qqplot(loggedprice_pp, stats.norm, line = 'r')\n",
    "plt.show()\n",
    "\n",
    "plt.suptitle(\"log(\" + 'price_pp' + \")\")\n",
    "plt.hist(loggedprice_pp, 20)"
   ]
  },
  {
   "cell_type": "code",
   "execution_count": null,
   "metadata": {},
   "outputs": [],
   "source": [
    "listing['price_pp'].describe()\n"
   ]
  },
  {
   "cell_type": "code",
   "execution_count": null,
   "metadata": {},
   "outputs": [],
   "source": [
    "#Fill the missing names (Airbnb title) in the listings dataset\n",
    "listing['name'].fillna('No Name', inplace = True)"
   ]
  },
  {
   "cell_type": "code",
   "execution_count": null,
   "metadata": {},
   "outputs": [],
   "source": [
    "#Fill in the missing comments in the reviews dataset\n",
    "reviews['comments'].fillna('No Comment', inplace = True)"
   ]
  },
  {
   "cell_type": "code",
   "execution_count": null,
   "metadata": {},
   "outputs": [],
   "source": [
    "#Check reviews dataset that will be used to answer questions 3 and 4\n",
    "reviews.head()"
   ]
  },
  {
   "cell_type": "markdown",
   "metadata": {},
   "source": [
    "# Data Modeling"
   ]
  },
  {
   "cell_type": "markdown",
   "metadata": {},
   "source": [
    "In the following analysis, listings in different London boroughs are calculated. The average price in each of them are compared. This simple analysis is repeated on different subsets of the original dataset, for this reason will be implemented a function to facilitate to repeat process."
   ]
  },
  {
   "cell_type": "code",
   "execution_count": null,
   "metadata": {},
   "outputs": [],
   "source": [
    "def price_neighborhood_cleansed(df, filters = None):\n",
    "    \"\"\"\" Calculates and visualizes the average price per person per night in each neighborhood. \n",
    "    Filters can be applied so the analysis can be repeated on different subsets of the original dataframe.\n",
    "    \n",
    "    Parameters\n",
    "    ----------\n",
    "    df : DataFrame, detailed data of Airbnb listings including their price per person per night\n",
    "    filters: dict, column (str) and values (list) pairs used to filter the dataset \n",
    "    \n",
    "    Returns\n",
    "    -------\n",
    "    avg_prices_df : DataFrame, average price per person per night in each neighborhood\n",
    "    \"\"\"\n",
    "    \n",
    "    #Empty Filter\n",
    "    bools = [True]*df.shape[0]\n",
    "    \n",
    "    #Combine all the filters\n",
    "    if filters:\n",
    "        for column, value in filters.items():\n",
    "            additional_filter = (df[column].isin(value))\n",
    "            bools = bools & additional_filter\n",
    "\n",
    "    #Apply the filters\n",
    "    df_filtered = df[bools]\n",
    "        \n",
    "    #Calculate average prices in different neighborhoods\n",
    "    avg_prices = df_filtered.groupby(['neighbourhood_cleansed'])['price_pp'].mean().sort_values(ascending = False)\n",
    "    \n",
    "    #Store them in a dataframe\n",
    "    avg_prices_df = pd.DataFrame(avg_prices).reset_index()\n",
    "\n",
    "    #Visualize the results\n",
    "    colors = sns.color_palette('muted')\n",
    "    sns.barplot(y = 'neighbourhood_cleansed', x = 'price_pp', data = df_filtered, \n",
    "                order = avg_prices.index, orient='h', color= colors[3], zorder= 2)\n",
    "    plt.xlabel('Average Price per Night (£)')\n",
    "    plt.ylabel('')\n",
    "    plt.title('Average Prices in London Neighborhoods')\n",
    "    plt.subplots_adjust(left=0.35, right=0.9, top=0.95, bottom=0.07)\n",
    "    plt.grid(axis = 'x', linestyle = '--', zorder=0)\n",
    "\n",
    "    return avg_prices_df"
   ]
  },
  {
   "cell_type": "code",
   "execution_count": null,
   "metadata": {},
   "outputs": [],
   "source": [
    "#Average prices for different neighborhoods, all listings\n",
    "plt.rcParams['figure.figsize'] = [12, 8]\n",
    "all_avg = price_neighborhood_cleansed(listing);\n",
    "#plt.savefig('neighbourhood')"
   ]
  },
  {
   "cell_type": "code",
   "execution_count": null,
   "metadata": {},
   "outputs": [],
   "source": [
    "#Average prices for different neighborhoods, entire home/apartment listings only\n",
    "#plt.rc('axes', labelsize = 13) \n",
    "#plt.rc('font', size = 13)   \n",
    "entirehouse_avg = price_neighborhood(listing, {'room_type': ['Entire home/apt']});\n",
    "#plt.savefig('Neighbourhoods')"
   ]
  },
  {
   "cell_type": "code",
   "execution_count": null,
   "metadata": {},
   "outputs": [],
   "source": [
    "#Average prices for different neighborhoods, entire 2-person home/apartment listings only\n",
    "entirehouse2_avg = price_neighborhood(listing, {'room_type': ['Entire home/apt'], 'accommodates':[2]});"
   ]
  },
  {
   "cell_type": "code",
   "execution_count": null,
   "metadata": {},
   "outputs": [],
   "source": []
  },
  {
   "cell_type": "code",
   "execution_count": null,
   "metadata": {},
   "outputs": [],
   "source": [
    "#Average prices for different neighborhoods, private rooms only\n",
    "priv_room_avg = price_neighborhood(listing, {'room_type': ['Private room']});"
   ]
  },
  {
   "cell_type": "code",
   "execution_count": null,
   "metadata": {},
   "outputs": [],
   "source": [
    "#Compare entire home prices and private room prices\n",
    "compare = private_avg.merge(entirehouse_avg, on = 'neighbourhood_cleansed')\n",
    "compare['price_pp_x'] - compare['price_pp_y']"
   ]
  },
  {
   "cell_type": "code",
   "execution_count": null,
   "metadata": {},
   "outputs": [],
   "source": [
    "#Correlation between prices of entire homes and private room prices\n",
    "compare.corr()"
   ]
  },
  {
   "cell_type": "markdown",
   "metadata": {},
   "source": [
    "# Compare the percentage of positve guests reviews about location with price"
   ]
  },
  {
   "cell_type": "markdown",
   "metadata": {},
   "source": [
    "**Text wrangling and pre-processing - comments:** One of the most commons text wrangling and pre-processing for textual data has been used to analyse guests reviews: remove special characters and symbols that are usually non-alphanumeric and can add extra noise in unstructured texts. Regular expressions(regexes) was used to remove them. Another one is remove stopwords (articles, conjunctions) as a, an, the and transform sentences in words.There is no universal stopword list but here it is been used nltk-standard English language stopwords list.For all these steps was created a function that d the cleaning first and then define the positive words and flag it as false when it doesn't have positive words or the second sentence exclude the first one using not."
   ]
  },
  {
   "cell_type": "code",
   "execution_count": null,
   "metadata": {},
   "outputs": [],
   "source": [
    "def positive_sentiment(text):\n",
    "    \"\"\"\" Splits the input text into sentences, and determines whether there exists\n",
    "    a sentence that includes a positive comment about the location rented.\n",
    "    \n",
    "    Parameters\n",
    "    ----------\n",
    "    text : str, analyzed user review\n",
    "    \n",
    "    Returns\n",
    "    -------\n",
    "    positive_flag: boolean, indicates whether the review includes a positive comment about the location\n",
    "    \"\"\"\n",
    "    \n",
    "    #Split the input text into sentences\n",
    "    sentences = sent_tokenize(text)\n",
    "    \n",
    "    #Remove special characters, clean sentences and keep the ones that include the word 'location'\n",
    "    sentences_without_carac = [re.sub(r'[^a-zA-Z0-9]', ' ', sent.lower()).strip() for sent in sentences \n",
    "                       if 'location' in sent.lower()]\n",
    "    \n",
    "    #In case there are more sentences describing location, merge them together as one long sentence\n",
    "    one_string = \" \".join(sentences_without_carac)\n",
    "    \n",
    "    #Tokenize the sentence into words\n",
    "    location_words = set(word_tokenize(one_string))\n",
    "    \n",
    "    #Define words that represent positive sentiment\n",
    "    positive_words = ['central', 'good', 'nice', 'best', 'great', 'perfect', 'excellent', \n",
    "            'superb', 'amazing', 'awesome', 'incredible', 'wonderful']\n",
    "    \n",
    "    #Determine whether the (merged) sentence about the location includes any of the positive words and \n",
    "    #excludes the first sentence using word 'not' \n",
    "    if ((len(location_words.intersection(positive_words))  >=1) & ('not' not in location_words)):\n",
    "        positive_flag = True\n",
    "    else: \n",
    "        positive_flag = False\n",
    "    \n",
    "    return positive_flag"
   ]
  },
  {
   "cell_type": "code",
   "execution_count": null,
   "metadata": {},
   "outputs": [],
   "source": [
    "positive_sentiment('The location was just excellent.')"
   ]
  },
  {
   "cell_type": "code",
   "execution_count": null,
   "metadata": {},
   "outputs": [],
   "source": [
    "positive_sentiment('The apartments is nice. But the location is not so great')"
   ]
  },
  {
   "cell_type": "code",
   "execution_count": null,
   "metadata": {},
   "outputs": [],
   "source": [
    "#Create a new column that identifies positive location reviews\n",
    "reviews['positive_location_review'] = reviews['comments'].apply(positive_sentiment)"
   ]
  },
  {
   "cell_type": "code",
   "execution_count": null,
   "metadata": {},
   "outputs": [],
   "source": [
    "#Total umber of positive location reviews\n",
    "reviews['positive_location_review'].sum()"
   ]
  },
  {
   "cell_type": "code",
   "execution_count": null,
   "metadata": {},
   "outputs": [],
   "source": [
    "#Total relative number of positive location reviews\n",
    "reviews['positive_location_review'].sum()/reviews.shape[0]"
   ]
  },
  {
   "cell_type": "code",
   "execution_count": null,
   "metadata": {},
   "outputs": [],
   "source": [
    "#Count the number of reviews per listing and number of positive location reviews per listing\n",
    "review_counts = reviews.groupby('listing_id')['positive_location_review'].count()\n",
    "positive_review_counts = reviews.groupby('listing_id')['positive_location_review'].sum()"
   ]
  },
  {
   "cell_type": "code",
   "execution_count": null,
   "metadata": {},
   "outputs": [],
   "source": [
    "#Store the information into a dataframe\n",
    "review_counts_df = pd.concat([review_counts, positive_review_counts],axis=1)\n",
    "review_counts_df.columns = ['total_count','positive_count']\n",
    "review_counts_df.index.name = 'id'"
   ]
  },
  {
   "cell_type": "code",
   "execution_count": null,
   "metadata": {},
   "outputs": [],
   "source": [
    "listing_data = listing[['id','neighbourhood_cleansed']]\n",
    "additional_filter = (listing['room_type'] == 'Entire home/apt')\n",
    "listing_data = listing_data[additional_filter]\n",
    "merged_df = listing_data.merge(review_counts_df, on ='id')"
   ]
  },
  {
   "cell_type": "markdown",
   "metadata": {},
   "source": [
    "**Comparing guests reviews with location - comments:** It was used text processing techniques above to identify reviews with such positive comments, and then obtain, through mapping (guest reviews from the reviews dataset are linked to the corresponding listings in the listings dataset) and aggregation (from individual listings to neighborhoods_cleansed), compared with the percentage of positive location reviews in each borough.\n",
    "This analysis observe if the users' opinions about the location are correlated with the location-driven price differences, and potentially identify London boroughs that seems under/overpriced given their location."
   ]
  },
  {
   "cell_type": "code",
   "execution_count": null,
   "metadata": {},
   "outputs": [],
   "source": [
    "merged_df.head(10)"
   ]
  },
  {
   "cell_type": "code",
   "execution_count": null,
   "metadata": {},
   "outputs": [],
   "source": [
    "merged_df.shape"
   ]
  },
  {
   "cell_type": "code",
   "execution_count": null,
   "metadata": {},
   "outputs": [],
   "source": [
    "#Calculate the total number of reviews per neighborhood and total number of positive location reviews per neighborhood\n",
    "review_counts_nh = merged_df.iloc[:,1:].groupby('neighbourhood_cleansed').sum()\n",
    "review_counts_nh['positive_location_ratio'] = 100*review_counts_nh['positive_count'] / review_counts_nh['total_count']"
   ]
  },
  {
   "cell_type": "code",
   "execution_count": null,
   "metadata": {},
   "outputs": [],
   "source": [
    "#Order the neighborhoods with respect to the ratio of reviews that positively comment on the location\n",
    "review_counts_nh.sort_values('positive_location_ratio', ascending = False)"
   ]
  },
  {
   "cell_type": "code",
   "execution_count": null,
   "metadata": {},
   "outputs": [],
   "source": [
    "final_results = review_counts_nh.merge(homeapt_avg, on ='neighbourhood_cleansed').sort_values('positive_location_ratio', \n",
    "                                                                                          ascending = False)\n",
    "final_results"
   ]
  },
  {
   "cell_type": "code",
   "execution_count": null,
   "metadata": {},
   "outputs": [],
   "source": [
    "#Calculate the correlation coefficient between the average prices and the relative number of positive location reviews\n",
    "print(final_results[['positive_location_ratio', 'price_pp']].corr())\n",
    "print(final_results[['positive_location_ratio', 'price_pp']].corr('kendall'))"
   ]
  },
  {
   "cell_type": "code",
   "execution_count": null,
   "metadata": {},
   "outputs": [],
   "source": [
    "#Show linear relationship with a scatter plot using seaborn\n",
    "plt.rcParams['figure.figsize'] = [16, 12]\n",
    "plt.rcParams['lines.color'] = 'b'\n",
    "#plt.rc('axes', labelsize = 12) \n",
    "#plt.rc('font', size=14) \n",
    "sns.regplot('positive_location_ratio', 'price_pp', data = final_results, color=\"g\");\n",
    "plt.xlabel('Positive Location Reviews (%)');\n",
    "plt.ylabel('Average Price per Person per Night (£)');\n",
    "plt.grid( linestyle = '-')\n",
    "\n",
    "add_text = [1, 2, 3, 4, 5, 6, 8, 9,10, 11, 12, 13, 14, 15, 16, 17, 18, 19, 20, 21, 22, 23, 24, 28, 31, 32]\n",
    "horizontal = ['left','left','right','left','left','left','left','left','left','left','left','right','left','right','left','left','left','left','left','left','left','right','left','right','left','left','left','left']\n",
    "vertical = ['bottom','bottom','bottom','bottom','top','top','top','top','top','bottom','top','bottom','bottom','bottom','bottom','top','top','top','top','bottom','bottom','bottom','bottom','bottom','top','top','top']\n",
    "for i in range(len(add_text)):\n",
    "    plt.text(final_results['positive_location_ratio'][add_text[i]],\n",
    "             final_results['price_pp'][add_text[i]], \n",
    "             final_results['neighbourhood_cleansed'][add_text[i]],\n",
    "             horizontalalignment = horizontal[i],\n",
    "             verticalalignment = vertical[i])\n",
    "#plt.savefig('Location Reviews')"
   ]
  },
  {
   "cell_type": "markdown",
   "metadata": {},
   "source": [
    "**Correlation -Comments:** The function regplot in seaborn was used to visualise linear relationship.\n",
    "The regression plot intend to add a visual guide to highlight patterns in average price per night and positive locations from guests reviews, showing what was expected that the price is strongly correlated to the ratio of positive location reviews and most of cases price would be right not under/overpriced, in few cases as Greenwich and Kigston uopn Thames seems under priced and Kingston and Chelsea and City of London a bit overpriced hwever they also presented the best ration of positive location.\n",
    "In order to not clutter the image some data points was left without borough's names but the relation of all boroughs can be seen in final_results above."
   ]
  },
  {
   "cell_type": "markdown",
   "metadata": {},
   "source": [
    "# Identifying adding-value features from listings description titles"
   ]
  },
  {
   "cell_type": "markdown",
   "metadata": {},
   "source": [
    "**Adding value features - comments:** Location was proved above to be a factor impacting Airbnb prices, but should have more covered aspects.This part seeks to identify features that add value to Airbnb entire house or apartments, by analyzing the information contained in listings’ textual descriptions.For each specific feature of interest, it will be performed a word search through the Airbnb listings’ titles and split the input data-set into two subsets, separating listings with and without specific feature advertised, allowing compare the distribution of prices between these two datasets and construct a confidence interval for the difference of means. In this way would identify features that may have a significant impact on the prices.\n"
   ]
  },
  {
   "cell_type": "code",
   "execution_count": null,
   "metadata": {},
   "outputs": [],
   "source": [
    "#Checking listings description titles\n",
    "display(listing['name'])\n",
    "summary = listing.dropna(subset=['name'], axis=0)['name']\n",
    "all_summary = \" \".join(s for s in summary)\n",
    "print(\"Total of words: {}\".format(len(all_summary)))\n"
   ]
  },
  {
   "cell_type": "code",
   "execution_count": null,
   "metadata": {},
   "outputs": [],
   "source": [
    "#Produce wordCloud from listings description titles\n",
    "stopwords = set(STOPWORDS)\n",
    "wordcloud = WordCloud(stopwords=stopwords,\n",
    "                      background_color=\"black\",\n",
    "                      width=1600, height=800).generate(all_summary)\n",
    "# plot image\n",
    "fig, ax = plt.subplots(figsize=(10,6))\n",
    "ax.imshow(wordcloud, interpolation='bilinear')\n",
    "ax.set_axis_off()\n",
    "\n",
    "plt.imshow(wordcloud);\n",
    "\n"
   ]
  },
  {
   "cell_type": "markdown",
   "metadata": {},
   "source": [
    "**Comments:** Interesting! This wordcloud shows that the high demand or may search for accomodation are for double bedroom, doble room, central London as most of hosts include it in their descriptions title as showed in wordcould above but this is not interesting for this analysis so next step will be stop this common words that seems do not add any value to houses, to try to find the most interesting ones.It also prove that this analysis will have more value for entire house or apartments because normally shared rooms don't offer more features than bedroom itself.\n"
   ]
  },
  {
   "cell_type": "code",
   "execution_count": null,
   "metadata": {},
   "outputs": [],
   "source": []
  },
  {
   "cell_type": "code",
   "execution_count": null,
   "metadata": {
    "scrolled": true
   },
   "outputs": [],
   "source": [
    "#Including commons words from analysis above\n",
    "stopwords.update([\"double\", \"room\", \"Central\", \"London\", \"double\", \"bedroom\", \"bed\", \"flat\", \"bedroom\", \"flat\", \"house\", \"Apartment\"])\n",
    "# gerar uma wordcloud\n",
    "wordcloud = WordCloud(stopwords=stopwords,\n",
    "                      background_color=\"black\",\n",
    "                      width=1600, height=800).generate(all_summary)\n",
    "# mostrar a imagem final\n",
    "fig, ax = plt.subplots(figsize=(10,6))\n",
    "ax.imshow(wordcloud, interpolation='bilinear')\n",
    "ax.set_axis_off()\n",
    "\n",
    "plt.imshow(wordcloud);\n"
   ]
  },
  {
   "cell_type": "markdown",
   "metadata": {},
   "source": [
    "**Comments:** Now without the commom words from the wordCloud above seems more with what was expected for this analysis, the keywords Cosy, Lovely, Large, Spacious, Modern, Garden, Balcony, Penthouse, Stylish will be examined to check if they add any value to houses and apartments."
   ]
  },
  {
   "cell_type": "code",
   "execution_count": null,
   "metadata": {},
   "outputs": [],
   "source": [
    "def mean_difference(df, keyword, text_column = 'name', filters = None, plot_text = \"\", confidence_level = 90):\n",
    "    \"\"\" Split the input dataset into two subsets, separating listings that have a specific keyword\n",
    "    in the name or description and the ones that do not. Compare the distribution of prices between the\n",
    "    two datasets and construct a confidence interval for the difference in means.\n",
    "    \n",
    "    Parameters\n",
    "    ----------\n",
    "    df : DataFrame, detailed data of Airbnb listings including their price per person per night\n",
    "    keyword : str, specific keyword used to separate the dataset\n",
    "    text_column : str, analyzed column with textual descriptions of properties, 'name' or 'description'\n",
    "    filters : dict, column(str) - value(list) pairs used to filter the original dataset\n",
    "    plot_text : str, text used in the visualization\n",
    "    confidence_level : int, confidence level used to construct confidence intervals\n",
    "    \n",
    "    Returns\n",
    "    -------\n",
    "    None\n",
    "    \n",
    "    \"\"\"\n",
    "    #Empty filter\n",
    "    bools = [True]*df.shape[0]\n",
    "    \n",
    "    #Apply filters to obtain the desired subset\n",
    "    if filters:\n",
    "        for column, value in filters.items():\n",
    "            additional_filter = (df[column].isin(value))\n",
    "            bools = bools & additional_filter\n",
    "    df = df[bools]\n",
    "    \n",
    "    # Check each name if it includes the input keyword \n",
    "    keyword_flag = df[text_column].apply(lambda x: 1 if keyword in x.lower() else 0)\n",
    "    \n",
    "    # Split the input dataframe into two sets - one with the keyword in the name and one without\n",
    "    prices_keyword = df['price_pp'][keyword_flag == 1]\n",
    "    prices_other = df['price_pp'][keyword_flag == 0]\n",
    "    \n",
    "    #Plot the distribution\n",
    "    bins = np.arange(0,200,5)\n",
    "    sns.distplot(prices_keyword, bins, kde = True, norm_hist = True)\n",
    "    sns.distplot(prices_other, bins, kde = True, norm_hist = True, color = 'green')\n",
    "    plt.title(f'Keyword: \"{keyword}\"')\n",
    "    plt.xlabel('Price per Person per Night (£)')\n",
    "    \n",
    "    #Text in the legend\n",
    "    if plot_text == \"\":\n",
    "        plot_text = keyword\n",
    "    \n",
    "    plt.legend([f'Listings advertised as {plot_text}','Other'])\n",
    "    \n",
    "    #Calculate the confidence interval for the mean difference\n",
    "    m1 = prices_keyword.mean()\n",
    "    m2 = prices_other.mean()\n",
    "    \n",
    "    s1 = prices_keyword.std()\n",
    "    s2 = prices_other.std()\n",
    "    \n",
    "    n1 = len(prices_keyword)\n",
    "    n2 = len(prices_other)\n",
    "    \n",
    "    se = np.sqrt((s1 ** 2)/n1 + (s2 ** 2)/n2)\n",
    "    \n",
    "    #Sample mean difference\n",
    "    stat = m1-m2\n",
    "    \n",
    "    #Inverse CDF\n",
    "    p = 1 - (1 - confidence_level/100)/2\n",
    "    critical = norm.ppf(p)\n",
    "    \n",
    "    #Confidence interval\n",
    "    #lower_bound = stat - se * critical\n",
    "    #upper_bound = stat + se * critical\n",
    "    \n",
    "    output_str = f'Difference in means: {stat:.2f} (+/- {se * critical:.2f})'\n",
    "    \n",
    "    props = dict(boxstyle='round', facecolor='white', alpha=1)\n",
    "    plt.text(-5, 0.001, output_str , fontsize=18,\n",
    "        verticalalignment='bottom', bbox = props)\n",
    "\n",
    "    \n",
    "    #print(f'Average price difference : {stat:.2f} +/- {se * critical:.2f}')"
   ]
  },
  {
   "cell_type": "code",
   "execution_count": null,
   "metadata": {},
   "outputs": [],
   "source": [
    "plt.rcParams['figure.figsize'] = [12, 6]\n",
    "mean_difference(listing, 'luxury', filters = {'room_type':['Entire home/apt']})\n",
    "#plt.savefig('luxury')"
   ]
  },
  {
   "cell_type": "code",
   "execution_count": null,
   "metadata": {},
   "outputs": [],
   "source": [
    "mean_difference(listing, 'stylish',  filters = {'room_type':['Entire home/apt']})\n",
    "#plt.savefig('stylish')"
   ]
  },
  {
   "cell_type": "code",
   "execution_count": null,
   "metadata": {},
   "outputs": [],
   "source": [
    "mean_difference(listing, 'cosy',  filters = {'room_type':['Entire home/apt']})\n",
    "#plt.savefig('stylish')"
   ]
  },
  {
   "cell_type": "code",
   "execution_count": null,
   "metadata": {},
   "outputs": [],
   "source": [
    "mean_difference(listing, 'garden', plot_text = 'having a garden', filters = {'room_type':['Entire home/apt']})\n",
    "#plt.savefig('garden')"
   ]
  },
  {
   "cell_type": "code",
   "execution_count": null,
   "metadata": {},
   "outputs": [],
   "source": [
    "mean_difference(listing, 'modern', filters = {'room_type':['Entire home/apt']})\n",
    "#plt.savefig('modern')"
   ]
  },
  {
   "cell_type": "code",
   "execution_count": null,
   "metadata": {},
   "outputs": [],
   "source": [
    "mean_difference(listing, 'bright', filters = {'room_type':['Entire home/apt']})\n",
    "#plt.savefig('modern')"
   ]
  },
  {
   "cell_type": "code",
   "execution_count": null,
   "metadata": {},
   "outputs": [],
   "source": [
    "mean_difference(listing, 'balcony', filters = {'room_type':['Entire home/apt']})\n",
    "#plt.savefig('modern')"
   ]
  },
  {
   "cell_type": "code",
   "execution_count": null,
   "metadata": {},
   "outputs": [],
   "source": [
    "mean_difference(listing, 'rooftop', filters = {'room_type':['Entire home/apt'] })\n",
    "#plt.savefig('rooftop')\n"
   ]
  },
  {
   "cell_type": "code",
   "execution_count": null,
   "metadata": {},
   "outputs": [],
   "source": [
    "mean_difference(listing, 'spacious', filters = {'room_type':['Entire home/apt']})\n",
    "#plt.savefig('modern')"
   ]
  },
  {
   "cell_type": "code",
   "execution_count": null,
   "metadata": {},
   "outputs": [],
   "source": [
    "mean_difference(listing, 'river', filters = {'room_type':['Entire home/apt']}, plot_text = 'view to river Thames')\n",
    "#plt.savefig('river')"
   ]
  },
  {
   "cell_type": "markdown",
   "metadata": {},
   "source": [
    "Entire houses or apartments described as luxury are on average £8 more expensive than other Airbnb accommodation without this description.However, properties advertised with keywords as Cosy, Large, Lovely, Spacious, Modern seems do not increase any value sometimes they are below the average, they seems to used as a way to attract people to look at their house when they do not have specials features to describe.\n",
    "Another keyword that added value to title was Rooftop increasing on average £5.\n"
   ]
  },
  {
   "cell_type": "markdown",
   "metadata": {},
   "source": [
    "# Amenities"
   ]
  },
  {
   "cell_type": "code",
   "execution_count": null,
   "metadata": {},
   "outputs": [],
   "source": [
    "count_amenities = listing['amenities'].value_counts()\n",
    "count_amenities"
   ]
  },
  {
   "cell_type": "code",
   "execution_count": null,
   "metadata": {},
   "outputs": [],
   "source": [
    "listing.amenities = listing.amenities.str.replace(\"[{}]\", \"\").str.replace('\"', \"\")\n",
    "listing['amenities'].head()"
   ]
  },
  {
   "cell_type": "code",
   "execution_count": null,
   "metadata": {},
   "outputs": [],
   "source": [
    "#Essentials amenities by listings\n",
    "pd.Series(np.concatenate(listing['amenities'].map(lambda amns: amns.split(\",\"))))\\\n",
    "    .value_counts().head(20)\\\n",
    "    .plot(kind='bar')\n",
    "ax = plt.gca()\n",
    "ax.set_xticklabels(ax.get_xticklabels(), rotation=45, ha='right', fontsize=12)\n",
    "plt.show();"
   ]
  },
  {
   "cell_type": "markdown",
   "metadata": {},
   "source": [
    "**Comment:** In the list of all amenities showed above, can be deducted that some amenities can be more important than others (e.g. a balcony is more likely to increase price than a fax machine), and some are likely to be fairly uncommon (e.g. 'Electric profiling bed') but also is important hosts know wich is the most commom amenities because they can miss the opportunity to rent their homes without it (e.g. Wifi is expected for guests and seems be present at most of listings what shows probably this don't increase price but hosts can lose without it.)But in cases as iron or hair dryer , shampoo that is not expesive items if hosts do not have it can think about to buy it and increase their rent opportunities."
   ]
  },
  {
   "cell_type": "code",
   "execution_count": null,
   "metadata": {},
   "outputs": [],
   "source": []
  },
  {
   "cell_type": "code",
   "execution_count": null,
   "metadata": {},
   "outputs": [],
   "source": [
    "corr = listing.corr()\n",
    "print(corr.head())\n",
    "\n",
    "plt.figure(figsize = (10,10))\n",
    "\n",
    "ax = sns.heatmap(\n",
    "    corr, \n",
    "    vmin=-1, vmax=1, center=0,\n",
    "    cmap=sns.diverging_palette(20, 220, n=200),\n",
    "    square=True)"
   ]
  },
  {
   "cell_type": "code",
   "execution_count": null,
   "metadata": {},
   "outputs": [],
   "source": [
    "count_amenities = listing['amenities'].value_counts()\n",
    "count_amenities"
   ]
  },
  {
   "cell_type": "code",
   "execution_count": null,
   "metadata": {},
   "outputs": [],
   "source": []
  },
  {
   "cell_type": "code",
   "execution_count": null,
   "metadata": {},
   "outputs": [],
   "source": []
  },
  {
   "cell_type": "code",
   "execution_count": null,
   "metadata": {},
   "outputs": [],
   "source": []
  },
  {
   "cell_type": "code",
   "execution_count": null,
   "metadata": {},
   "outputs": [],
   "source": []
  },
  {
   "cell_type": "code",
   "execution_count": null,
   "metadata": {},
   "outputs": [],
   "source": []
  },
  {
   "cell_type": "code",
   "execution_count": null,
   "metadata": {},
   "outputs": [],
   "source": []
  },
  {
   "cell_type": "code",
   "execution_count": null,
   "metadata": {},
   "outputs": [],
   "source": []
  },
  {
   "cell_type": "code",
   "execution_count": null,
   "metadata": {},
   "outputs": [],
   "source": []
  },
  {
   "cell_type": "code",
   "execution_count": null,
   "metadata": {},
   "outputs": [],
   "source": []
  },
  {
   "cell_type": "code",
   "execution_count": null,
   "metadata": {},
   "outputs": [],
   "source": [
    "\n"
   ]
  },
  {
   "cell_type": "code",
   "execution_count": null,
   "metadata": {},
   "outputs": [],
   "source": []
  },
  {
   "cell_type": "code",
   "execution_count": null,
   "metadata": {},
   "outputs": [],
   "source": [
    "\n"
   ]
  },
  {
   "cell_type": "code",
   "execution_count": null,
   "metadata": {},
   "outputs": [],
   "source": []
  },
  {
   "cell_type": "code",
   "execution_count": null,
   "metadata": {},
   "outputs": [],
   "source": [
    "\n",
    "\n"
   ]
  },
  {
   "cell_type": "code",
   "execution_count": null,
   "metadata": {},
   "outputs": [],
   "source": []
  },
  {
   "cell_type": "code",
   "execution_count": null,
   "metadata": {},
   "outputs": [],
   "source": []
  },
  {
   "cell_type": "code",
   "execution_count": null,
   "metadata": {},
   "outputs": [],
   "source": []
  },
  {
   "cell_type": "code",
   "execution_count": null,
   "metadata": {},
   "outputs": [],
   "source": []
  },
  {
   "cell_type": "code",
   "execution_count": null,
   "metadata": {},
   "outputs": [],
   "source": []
  },
  {
   "cell_type": "code",
   "execution_count": null,
   "metadata": {},
   "outputs": [],
   "source": []
  }
 ],
 "metadata": {
  "kernelspec": {
   "display_name": "Python 3",
   "language": "python",
   "name": "python3"
  },
  "language_info": {
   "codemirror_mode": {
    "name": "ipython",
    "version": 3
   },
   "file_extension": ".py",
   "mimetype": "text/x-python",
   "name": "python",
   "nbconvert_exporter": "python",
   "pygments_lexer": "ipython3",
   "version": "3.7.4"
  }
 },
 "nbformat": 4,
 "nbformat_minor": 2
}
